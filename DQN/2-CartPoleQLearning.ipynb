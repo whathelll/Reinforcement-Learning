{
 "cells": [
  {
   "cell_type": "markdown",
   "metadata": {},
   "source": [
    "https://github.com/openai/gym/wiki/CartPole-v0"
   ]
  },
  {
   "cell_type": "code",
   "execution_count": 1,
   "metadata": {
    "collapsed": true
   },
   "outputs": [],
   "source": [
    "import gym\n",
    "import numpy as np"
   ]
  },
  {
   "cell_type": "code",
   "execution_count": 2,
   "metadata": {},
   "outputs": [
    {
     "name": "stderr",
     "output_type": "stream",
     "text": [
      "[2018-01-15 20:47:57,137] Making new env: CartPole-v0\n"
     ]
    },
    {
     "name": "stdout",
     "output_type": "stream",
     "text": [
      "[ 0.03480703 -0.04522581  0.04244589  0.0005387 ]\n",
      "0\n",
      "None\n",
      "[ 0.03390251 -0.24092999  0.04245666  0.3063059 ]\n",
      "1\n",
      "None\n",
      "[ 0.02908391 -0.04643795  0.04858278  0.02730924]\n",
      "1\n",
      "None\n",
      "[ 0.02815516  0.14795484  0.04912896 -0.24965817]\n",
      "0\n",
      "None\n",
      "[ 0.03111425 -0.04783302  0.0441358   0.05810738]\n",
      "1\n",
      "None\n",
      "[ 0.03015759  0.14662923  0.04529795 -0.22033022]\n",
      "1\n",
      "None\n",
      "[ 0.03309018  0.3410754   0.04089134 -0.49838725]\n",
      "1\n",
      "None\n",
      "[ 0.03991168  0.53559768  0.0309236  -0.77790805]\n",
      "1\n",
      "None\n",
      "[ 0.05062364  0.73028106  0.01536544 -1.06070342]\n",
      "1\n",
      "None\n",
      "[ 0.06522926  0.92519618 -0.00584863 -1.34852432]\n",
      "1\n",
      "None\n",
      "[ 0.08373318  1.12039114 -0.03281912 -1.64303125]\n",
      "1\n",
      "None\n",
      "[ 0.10614101  1.31588161 -0.06567974 -1.94575613]\n",
      "0\n",
      "None\n",
      "[ 0.13245864  1.12151773 -0.10459486 -1.67413489]\n",
      "0\n",
      "None\n",
      "[ 0.15488899  0.92775397 -0.13807756 -1.4157725 ]\n",
      "1\n",
      "None\n",
      "[ 0.17344407  1.12428949 -0.16639301 -1.7482359 ]\n",
      "0\n",
      "None\n",
      "[ 0.19592986  0.93140336 -0.20135773 -1.51159687]\n",
      "0\n",
      "None\n",
      "Episode finished after 16 timesteps\n"
     ]
    }
   ],
   "source": [
    "import time\n",
    "\n",
    "env = gym.make('CartPole-v0')\n",
    "for i_episode in range(1):\n",
    "    observation = env.reset()\n",
    "    for t in range(100):\n",
    "        env.render()\n",
    "        print(observation)\n",
    "        action = env.action_space.sample()\n",
    "        print(action)\n",
    "        print(time.sleep(0.1))\n",
    "        observation, reward, done, info = env.step(action)\n",
    "        if done:\n",
    "            print(\"Episode finished after {} timesteps\".format(t+1))\n",
    "            break\n",
    "env.close()"
   ]
  },
  {
   "cell_type": "code",
   "execution_count": 3,
   "metadata": {},
   "outputs": [
    {
     "name": "stdout",
     "output_type": "stream",
     "text": [
      "Discrete(2)\n",
      "Box(4,)\n",
      "[  4.80000000e+00   3.40282347e+38   4.18879020e-01   3.40282347e+38]\n",
      "[ -4.80000000e+00  -3.40282347e+38  -4.18879020e-01  -3.40282347e+38]\n"
     ]
    }
   ],
   "source": [
    "print(env.action_space)\n",
    "print(env.observation_space)\n",
    "print(env.observation_space.high)\n",
    "print(env.observation_space.low)"
   ]
  },
  {
   "cell_type": "code",
   "execution_count": 6,
   "metadata": {},
   "outputs": [
    {
     "name": "stdout",
     "output_type": "stream",
     "text": [
      "bins: [-4.8        -3.92727273 -3.05454545 -2.18181818 -1.30909091 -0.43636364\n",
      "  0.43636364  1.30909091  2.18181818  3.05454545  3.92727273  4.8       ]\n",
      "x: [-2.4  0.  -4.   4.   2. ] out: [ 3  6  1 11  8]\n",
      "4\n",
      "[array([-4.8       , -3.42857143, -2.05714286, -0.68571429,  0.68571429,\n",
      "        2.05714286,  3.42857143,  4.8       ]), array([ -3.40282347e+38,  -2.43058819e+38,  -1.45835291e+38,\n",
      "        -4.86117638e+37,   4.86117638e+37,   1.45835291e+38,\n",
      "         2.43058819e+38,   3.40282347e+38]), array([-0.41887902, -0.2991993 , -0.17951958, -0.05983986,  0.05983986,\n",
      "        0.17951958,  0.2991993 ,  0.41887902]), array([ -3.40282347e+38,  -2.43058819e+38,  -1.45835291e+38,\n",
      "        -4.86117638e+37,   4.86117638e+37,   1.45835291e+38,\n",
      "         2.43058819e+38,   3.40282347e+38])]\n"
     ]
    }
   ],
   "source": [
    "x = np.array([-2.4, 0, -4.0, 4, 2])\n",
    "bins = np.linspace(-4.8, 4.8, 12)\n",
    "out = np.digitize(x, bins)\n",
    "print(\"bins:\", bins)\n",
    "print(\"x:\", x, \"out:\", out)\n",
    "\n",
    "a = [np.linspace(env.observation_space.low[i], env.observation_space.high[i], 8) for i in range(4)]\n",
    "\n",
    "print(len(a))\n",
    "print(a)"
   ]
  },
  {
   "cell_type": "code",
   "execution_count": 7,
   "metadata": {
    "collapsed": true
   },
   "outputs": [],
   "source": [
    "import matplotlib\n",
    "import matplotlib.pyplot as plt\n",
    "%matplotlib inline\n",
    "import time\n",
    "import unittest\n",
    "import math\n",
    "\n",
    "\n",
    "# env = gym.make('CartPole-v0')\n",
    "# env.reset()\n",
    "\n",
    "\n",
    "# Qlearner for CartPole\n",
    "class QLearner():\n",
    "    def __init__(self, env):\n",
    "        self.env = env\n",
    "        self.epsilon_start = 0.1 # 1-epsilon probability of selecting best action\n",
    "        self.epsilon_end = 0.99 # final epsilon value\n",
    "        self.epsilon_decay = 5000 # steps before epsilon reaches epsilon_end\n",
    "        self.epsilon_step = 0 #step tracker\n",
    "        self.alpha = 0.01\n",
    "        self.gamma = 0.99\n",
    "        \n",
    "        # get initial state, divide continuous states into discrete bins\n",
    "#         self.bins = [np.linspace(env.observation_space.low[i], env.observation_space.high[i], 7) for i in range(4)]\n",
    "        self.bins = []\n",
    "        self.bins.append(np.linspace(-2.4, 2.4, 1))\n",
    "        self.bins.append(np.linspace(-0.5, 0.5, 1))\n",
    "        self.bins.append(np.linspace(-41.8, 41.8, 5))\n",
    "        self.bins.append(np.linspace(-math.radians(50), math.radians(50), 3))\n",
    "        self.reset()\n",
    "        \n",
    "        #initialize Q\n",
    "        self.Q = np.zeros((2, 2, 6, 4, 2))\n",
    "#         print(self.bins)\n",
    "\n",
    "        self.episode_durations = []\n",
    "        \n",
    "    \n",
    "    def getQ(self, s, action):\n",
    "        return self.Q[s[0], s[1], s[2], s[3], action]\n",
    "    \n",
    "    \n",
    "    def setQ(self, s, s_plus1, action, r):\n",
    "#         print(\"Setting Q: \")\n",
    "#         print(\"s: \", s, \"s_plus1: \", s_plus1, \" action: \", action, \" r: \", r)\n",
    "#         print(\"s:\", s[0], s[1], s[2], s[3], \"action: \", action)\n",
    "        q = self.getQ(s, action)\n",
    "        max_q_splus1 = np.max(self.Q[s_plus1[0], s_plus1[1], s_plus1[2], s_plus1[3]])\n",
    "#         print(\"q: \", q, \" max_q_splus1: \", max_q_splus1)\n",
    "        new_q = q + self.alpha * (r + self.gamma * max_q_splus1 - q)\n",
    "\n",
    "#         print(\"new q: \", new_q, \" position: \", s[0], s[1], s[2], s[3], action)\n",
    "        self.Q[s[0], s[1], s[2], s[3], action] = new_q\n",
    "    \n",
    "    def get_best_action(self, s):\n",
    "        return np.argmax(self.Q[s[0], s[1], s[2], s[3]])\n",
    "    \n",
    "    def get_epsilon(self):\n",
    "        return min(self.epsilon_end, self.epsilon_start + \n",
    "                      self.epsilon_step / self.epsilon_decay * (self.epsilon_end - self.epsilon_start))\n",
    "    \n",
    "    def get_training_action(self):\n",
    "        epsilon = self.get_epsilon()\n",
    "\n",
    "        if np.random.rand() >= epsilon:\n",
    "            action = self.env.action_space.sample()\n",
    "        else:\n",
    "            action = self.get_best_action(self.s_bins)\n",
    "        \n",
    "        self.epsilon_step += 1\n",
    "        return action\n",
    "    \n",
    "    def reset(self):\n",
    "        self.s = env.reset()\n",
    "        self.s_bins = [np.digitize(self.s[i], self.bins[i]) for i in range(4)]\n",
    "        self.s_bins[0] = 0\n",
    "        self.s_bins[1] = 0\n",
    "    \n",
    "    def step(self, action, training=False):\n",
    "        s_plus1, r, done, _ = self.env.step(action)\n",
    "#         print(\"s0:\", self.s)\n",
    "#         print(\"s1:\", s_plus1)\n",
    "#         print(\"velocity:\", s_plus1[3])\n",
    "        s_bins = [np.digitize(s_plus1[i], self.bins[i]) for i in range(4)]\n",
    "        s_bins[0] = 0\n",
    "        s_bins[1] = 0\n",
    "#         if training:\n",
    "        self.setQ(self.s_bins, s_bins, action, r)\n",
    "        \n",
    "        self.s_bins = s_bins\n",
    "        \n",
    "        return r, done\n",
    "    \n",
    "    def train(self, nb_episodes=2):\n",
    "        \n",
    "        for episode in range(nb_episodes):\n",
    "            self.reset()\n",
    "            episode_reward = 0\n",
    "            \n",
    "            while True:\n",
    "                action = self.get_training_action()\n",
    "                r, done = self.step(action, training=True)\n",
    "                episode_reward += r\n",
    "                \n",
    "                if done:\n",
    "                    break;\n",
    "            self.episode_durations.append(episode_reward + 1)\n",
    "#             self.plot_durations()            \n",
    "#             print(\"Episode reward: \", episode_reward)\n",
    "\n",
    "    def run(self):\n",
    "        self.reset()\n",
    "        self.env.render()\n",
    "        episode_reward = 0\n",
    "        while True:\n",
    "            self.env.render()\n",
    "            action = self.get_best_action(self.s_bins)\n",
    "            r, done = self.step(action)\n",
    "            episode_reward += r\n",
    "#             time.sleep(0.1)\n",
    "            if done:\n",
    "                break;\n",
    "        \n",
    "        self.env.render(close=True)\n",
    "        print(\"Total Reward: \", episode_reward)\n",
    "            \n",
    "#     def plot_durations(self):\n",
    "#         plt.figure(2)\n",
    "#         plt.clf()\n",
    "# #         durations_t = torch.FloatTensor(episode_durations)\n",
    "#         plt.title('Training...')\n",
    "#         plt.xlabel('Episode')\n",
    "#         plt.ylabel('Duration')\n",
    "#         plt.plot(self.episode_durations)\n",
    "#         # Take 100 episode averages and plot them too\n",
    "# #         if len(durations_t) >= 100:\n",
    "# #             means = durations_t.unfold(0, 100, 1).mean(1).view(-1)\n",
    "# #             means = torch.cat((torch.zeros(99), means))\n",
    "# #             plt.plot(means.numpy())\n",
    "\n",
    "#         plt.pause(0.001)  # pause a bit so that plots are updated\n",
    "#         if is_ipython:\n",
    "#             display.clear_output(wait=True)\n",
    "#             display.display(plt.gcf())\n",
    "\n",
    "\n",
    "class TestQlearner(unittest.TestCase):\n",
    "    def setUp(self):\n",
    "        env = gym.make('CartPole-v0')\n",
    "        self.qlearner = QLearner(env)\n",
    "\n",
    "    def test_setQ(self):\n",
    "        self.qlearner.setQ([4, 4, 4, 4], [4, 4, 4, 5], 1, 1)\n",
    "        self.assertEqual(self.qlearner.getQ([4, 4, 4, 4], 1), 0.01)\n",
    "        \n",
    "        print(' ')\n",
    "        self.qlearner.setQ([4, 4, 4, 5], [4, 4, 4, 4], 0, 1)\n",
    "        newQ = self.qlearner.getQ([4, 4, 4, 5], 0)\n",
    "        self.assertEqual(newQ, 0.010099)\n",
    "        \n",
    "        \n",
    "    def runTest(self):\n",
    "        self.test_setQ()\n",
    "        \n",
    "\n",
    "\n",
    "\n",
    "# tester = TestQlearner()\n",
    "# tester.debug()\n"
   ]
  },
  {
   "cell_type": "code",
   "execution_count": 13,
   "metadata": {},
   "outputs": [
    {
     "name": "stderr",
     "output_type": "stream",
     "text": [
      "[2018-01-15 21:56:19,085] Making new env: CartPole-v0\n"
     ]
    },
    {
     "data": {
      "text/plain": [
       "[<matplotlib.lines.Line2D at 0x7f227e019470>]"
      ]
     },
     "execution_count": 13,
     "metadata": {},
     "output_type": "execute_result"
    },
    {
     "data": {
      "image/png": "[encoded data removed]",
      "text/plain": [
       "<matplotlib.figure.Figure at 0x7f22817ae940>"
      ]
     },
     "metadata": {},
     "output_type": "display_data"
    }
   ],
   "source": [
    "env = gym.make('CartPole-v0')\n",
    "qlearner = QLearner(env)\n",
    "\n",
    "qlearner.train(nb_episodes=500)\n",
    "plt.figure(2)\n",
    "plt.clf()\n",
    "plt.title('Training...')\n",
    "plt.xlabel('Episode')\n",
    "plt.ylabel('Duration')\n",
    "plt.plot(qlearner.episode_durations)\n",
    "\n"
   ]
  },
  {
   "cell_type": "code",
   "execution_count": 16,
   "metadata": {},
   "outputs": [
    {
     "name": "stdout",
     "output_type": "stream",
     "text": [
      "Total Reward:  200.0\n"
     ]
    }
   ],
   "source": [
    "# env.close()\n",
    "qlearner.run()\n",
    "# env.close()"
   ]
  },
  {
   "cell_type": "code",
   "execution_count": null,
   "metadata": {},
   "outputs": [],
   "source": [
    "qlearner.Q[0, 0, 3, 2]"
   ]
  },
  {
   "cell_type": "code",
   "execution_count": null,
   "metadata": {},
   "outputs": [],
   "source": [
    "# qlearner.Q[3:6, 3:6, 3:6, 3:6]\n",
    "print(qlearner.get_epsilon(), qlearner.epsilon_step)"
   ]
  },
  {
   "cell_type": "code",
   "execution_count": null,
   "metadata": {
    "collapsed": true
   },
   "outputs": [],
   "source": [
    "start = 0.1\n",
    "end = 0.95\n",
    "decay = 10\n",
    "step = 11\n",
    "\n",
    "epsilon = min(end, start + step / decay * (end - start))\n",
    "print(epsilon)"
   ]
  },
  {
   "cell_type": "code",
   "execution_count": null,
   "metadata": {},
   "outputs": [],
   "source": [
    "np.linspace(-100, 100, 2)"
   ]
  },
  {
   "cell_type": "markdown",
   "metadata": {},
   "source": [
    "# The above doesn't seem right, have to reduce dimension significantly\n",
    "## which means it requiers n-step bootstrapping rather than 1 step or we'll have to use a rollout "
   ]
  },
  {
   "cell_type": "code",
   "execution_count": 35,
   "metadata": {},
   "outputs": [
    {
     "name": "stderr",
     "output_type": "stream",
     "text": [
      "[2018-01-15 22:37:53,074] Making new env: CartPole-v0\n"
     ]
    },
    {
     "name": "stdout",
     "output_type": "stream",
     "text": [
      "{(4, 4, 4, 5): [0, 0], (4, 4, 4, 4): [0, 0.01]}\n",
      " \n",
      "{(4, 4, 4, 5): [0.010099, 0], (4, 4, 4, 4): [0, 0.01]}\n"
     ]
    }
   ],
   "source": [
    "import matplotlib\n",
    "import matplotlib.pyplot as plt\n",
    "%matplotlib inline\n",
    "import time\n",
    "import unittest\n",
    "import math\n",
    "\n",
    "\n",
    "# env = gym.make('CartPole-v0')\n",
    "# env.reset()\n",
    "\n",
    "\n",
    "# Qlearner for CartPole\n",
    "class QLearner():\n",
    "    def __init__(self, env):\n",
    "        self.env = env\n",
    "        self.epsilon_start = 1. # 1-epsilon probability of selecting best action. The epsilon is the greedy\n",
    "        self.epsilon_end = 0.01 # final epsilon value\n",
    "        self.epsilon_decay = 500 # steps before epsilon reaches epsilon_end\n",
    "        self.epsilon_step = 0 #step tracker\n",
    "        self.alpha = 0.1\n",
    "        self.gamma = 0.99\n",
    "        \n",
    "        # get initial state, divide continuous states into discrete bins\n",
    "#         self.bins = [np.linspace(env.observation_space.low[i], env.observation_space.high[i], 7) for i in range(4)]\n",
    "        self.bins = []\n",
    "        self.bins.append(np.linspace(-2.4, 2.4, 5))\n",
    "        self.bins.append(np.linspace(-0.5, 0.5, 5))\n",
    "        self.bins.append(np.linspace(-41.8, 41.8, 5))\n",
    "        self.bins.append(np.linspace(-math.radians(50), math.radians(50), 5))\n",
    "        self.reset()\n",
    "        \n",
    "        #initialize Q\n",
    "#         self.Q = np.zeros((20, 20, 20, 20, 2))\n",
    "        self.Q = {}\n",
    "#         print(self.bins)\n",
    "\n",
    "        self.episode_durations = []\n",
    "        \n",
    "    \n",
    "    def getQ(self, s, action=None):\n",
    "#         return self.Q[s[0], s[1], s[2], s[3], action]\n",
    "#         print('getQ:', s, action)\n",
    "        if not s in self.Q:\n",
    "            self.Q[s] = [0, 0]\n",
    "\n",
    "        if action is not None:\n",
    "            return self.Q[s][action]\n",
    "        else:\n",
    "            return self.Q[s]\n",
    "    \n",
    "    \n",
    "    def setQ(self, s, s_plus1, action, r):\n",
    "#         print(\"Setting Q: \")\n",
    "#         print(\"s: \", s, \"s_plus1: \", s_plus1, \" action: \", action, \" r: \", r)\n",
    "#         print(\"s:\", s[0], s[1], s[2], s[3], \"action: \", action)\n",
    "\n",
    "        q = self.getQ(s, action)\n",
    "        \n",
    "        max_q_splus1 = np.max(self.getQ(s_plus1))\n",
    "#         print(\"q: \", q, \" max_q_splus1: \", max_q_splus1)\n",
    "        new_q = q + self.alpha * (r + self.gamma * max_q_splus1 - q)\n",
    "\n",
    "        self.Q[s][action] = new_q\n",
    "    \n",
    "    def get_best_action(self, s):\n",
    "        return np.argmax(self.getQ(s))\n",
    "    \n",
    "    def get_epsilon(self):\n",
    "        return max(self.epsilon_end, self.epsilon_start + \n",
    "                      self.epsilon_step / self.epsilon_decay * (self.epsilon_end - self.epsilon_start))\n",
    "    \n",
    "    def get_training_action(self):\n",
    "        epsilon = self.get_epsilon()\n",
    "\n",
    "        if np.random.rand() >= epsilon:\n",
    "            action = self.get_best_action(self.s)\n",
    "        else:\n",
    "            action = self.env.action_space.sample()\n",
    "        \n",
    "        self.epsilon_step += 1\n",
    "        return action\n",
    "    \n",
    "    def reset(self):\n",
    "        s = env.reset()\n",
    "        self.s = tuple([np.asscalar(np.digitize(s[i], self.bins[i])) for i in range(4)])\n",
    "    \n",
    "    def step(self, action, training=False, step=0):\n",
    "        observation, r, done, _ = self.env.step(action)\n",
    "#         print(\"s0:\", self.s)\n",
    "#         print(\"s1:\", s_plus1)\n",
    "#         print(\"velocity:\", s_plus1[3])\n",
    "        s_plus1 = tuple([np.asscalar(np.digitize(observation[i], self.bins[i])) for i in range(4)])\n",
    "        \n",
    "        if training and done and step < 200:\n",
    "            r = -100\n",
    "        \n",
    "        self.setQ(self.s, s_plus1, action, r)\n",
    "            \n",
    "        self.s = s_plus1\n",
    "        \n",
    "        return r, done\n",
    "    \n",
    "    def train(self, nb_episodes=2):\n",
    "        \n",
    "        for episode in range(nb_episodes):\n",
    "            self.reset()\n",
    "            episode_reward = 0\n",
    "            \n",
    "            while True:\n",
    "                action = self.get_training_action()\n",
    "                r, done = self.step(action, training=True, step=episode_reward+1)\n",
    "                                \n",
    "                episode_reward += r\n",
    "                \n",
    "                if done:\n",
    "                    break;\n",
    "            self.episode_durations.append(episode_reward + 1)\n",
    "#             self.plot_durations()            \n",
    "#             print(\"Episode %d reward: %d epsilon: %.4f\" % (episode, episode_reward, self.get_epsilon()))\n",
    "\n",
    "    def run(self):\n",
    "        self.reset()\n",
    "        self.env.render()\n",
    "        episode_reward = 0\n",
    "        while True:\n",
    "            self.env.render()\n",
    "            action = self.get_best_action(self.s)\n",
    "            r, done = self.step(action)\n",
    "            episode_reward += r\n",
    "#             time.sleep(0.1)\n",
    "            if done:\n",
    "                break;\n",
    "        \n",
    "        self.env.render(close=True)\n",
    "        print(\"Total Reward: \", episode_reward)\n",
    "        \n",
    "class TestQlearner(unittest.TestCase):\n",
    "    def setUp(self):\n",
    "        env = gym.make('CartPole-v0')\n",
    "        self.qlearner = QLearner(env)\n",
    "        self.qlearner.alpha = 0.01\n",
    "        self.qlearner.gamma = 0.99\n",
    "\n",
    "    def test_setQ(self):\n",
    "        self.qlearner.setQ((4, 4, 4, 4), (4, 4, 4, 5), 1, 1)\n",
    "        print(self.qlearner.Q)\n",
    "        self.assertEqual(self.qlearner.getQ((4, 4, 4, 4), 1), 0.01)\n",
    "        \n",
    "        print(' ')\n",
    "        self.qlearner.setQ((4, 4, 4, 5), (4, 4, 4, 4), 0, 1)\n",
    "        print(self.qlearner.Q)\n",
    "        newQ = self.qlearner.getQ((4, 4, 4, 5), 0)\n",
    "        self.assertEqual(newQ, 0.010099)\n",
    "        \n",
    "        \n",
    "    def runTest(self):\n",
    "        self.test_setQ()\n",
    "        \n",
    "\n",
    "tester = TestQlearner()\n",
    "tester.debug()\n"
   ]
  },
  {
   "cell_type": "code",
   "execution_count": 36,
   "metadata": {},
   "outputs": [
    {
     "name": "stderr",
     "output_type": "stream",
     "text": [
      "[2018-01-15 22:37:53,082] Making new env: CartPole-v0\n"
     ]
    },
    {
     "data": {
      "text/plain": [
       "[<matplotlib.lines.Line2D at 0x7f227db0b320>]"
      ]
     },
     "execution_count": 36,
     "metadata": {},
     "output_type": "execute_result"
    },
    {
     "data": {
      "image/png": "[encoded data removed]",
      "text/plain": [
       "<matplotlib.figure.Figure at 0x7f227dbc1a20>"
      ]
     },
     "metadata": {},
     "output_type": "display_data"
    }
   ],
   "source": [
    "env = gym.make('CartPole-v0')\n",
    "qlearner = QLearner(env)\n",
    "\n",
    "qlearner.train(nb_episodes=200)\n",
    "plt.figure(2)\n",
    "plt.clf()\n",
    "plt.title('Training...')\n",
    "plt.xlabel('Episode')\n",
    "plt.ylabel('Duration')\n",
    "plt.plot(qlearner.episode_durations)"
   ]
  },
  {
   "cell_type": "code",
   "execution_count": 38,
   "metadata": {},
   "outputs": [
    {
     "name": "stdout",
     "output_type": "stream",
     "text": [
      "Total Reward:  200.0\n",
      "Total Reward:  200.0\n",
      "Total Reward:  200.0\n",
      "Total Reward:  200.0\n",
      "Total Reward:  200.0\n"
     ]
    }
   ],
   "source": [
    "for i in range(5):\n",
    "    qlearner.run()"
   ]
  },
  {
   "cell_type": "code",
   "execution_count": null,
   "metadata": {},
   "outputs": [],
   "source": [
    "qlearner.Q[2, 2, 3, 3, None]"
   ]
  },
  {
   "cell_type": "markdown",
   "metadata": {},
   "source": [
    "# Learnings\n",
    "- Having a big negative reward for failing really helps with convergence when the table gets big\n",
    "- bigger tabular dimensions require more training time\n",
    "    - bins of [5, 5, 5, 5] seems easy to learn with and manageable.\n",
    "    - bins of [7, 7, 7, 7] requires much longer training time\n",
    "    - bins of [5, 5, 11, 11] is doable but takes longer and decay needs to be longer (30000)\n",
    "- convergence is much better with odd number bins\n",
    "- best result is when pole velocity (last state) is 3 bins\n",
    "- a higher alpha (1.0 or even 0.1 vs 0.01) made a huge difference to learning\n",
    "\n",
    "- after revisiting this I realized by accident that in a smaller state space, a faster decaying epsilon kicks ass"
   ]
  },
  {
   "cell_type": "code",
   "execution_count": null,
   "metadata": {},
   "outputs": [],
   "source": [
    "Q = {}\n",
    "\n",
    "Q[\"a\"] = 1\n",
    "Q[(1, 2, 0)] = \"a\"\n",
    "Q[(1, 2, 1)] = \"b\"\n",
    "Q[1, 2, 2] = \"c\"\n",
    "Q[(1, 2), (0, 1)] = \"z\"\n",
    "\n",
    "Q[(1, 2)] = (0, 1)\n",
    "print(Q)\n",
    "print(Q[(1,2)]) \n",
    "print(Q[(1,2)][0], Q[(1,2)][1])\n",
    "\n",
    "print((9,9,9) in Q) # check if key exists"
   ]
  }
 ],
 "metadata": {
  "kernelspec": {
   "display_name": "Python 3",
   "language": "python",
   "name": "python3"
  },
  "language_info": {
   "codemirror_mode": {
    "name": "ipython",
    "version": 3
   },
   "file_extension": ".py",
   "mimetype": "text/x-python",
   "name": "python",
   "nbconvert_exporter": "python",
   "pygments_lexer": "ipython3",
   "version": "3.5.3"
  }
 },
 "nbformat": 4,
 "nbformat_minor": 2
}
