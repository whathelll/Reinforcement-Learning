{
 "cells": [
  {
   "cell_type": "markdown",
   "metadata": {},
   "source": [
    "# Gradient Bandit"
   ]
  },
  {
   "cell_type": "code",
   "execution_count": 269,
   "metadata": {
    "collapsed": true
   },
   "outputs": [],
   "source": [
    "import numpy as np\n",
    "import gym\n",
    "from gym import spaces\n",
    "from gym.utils import seeding\n",
    "import matplotlib.pyplot as plt\n",
    "%matplotlib inline"
   ]
  },
  {
   "cell_type": "code",
   "execution_count": 271,
   "metadata": {
    "collapsed": true
   },
   "outputs": [],
   "source": [
    "class BanditEnv(gym.Env):\n",
    "    \"\"\"\n",
    "    Bandit environment base to allow agents to interact with the class n-armed bandit\n",
    "    in different variations\n",
    "    p_dist:\n",
    "        A list of probabilities of the likelihood that a particular bandit will pay out\n",
    "    r_dist:\n",
    "        A list of either rewards (if number) or means and standard deviations (if list)\n",
    "        of the payout that bandit has\n",
    "    \"\"\"\n",
    "    def __init__(self, p_dist, r_dist):\n",
    "        if len(p_dist) != len(r_dist):\n",
    "            raise ValueError(\"Probability and Reward distribution must be the same length\")\n",
    "\n",
    "        if min(p_dist) < 0 or max(p_dist) > 1:\n",
    "            raise ValueError(\"All probabilities must be between 0 and 1\")\n",
    "\n",
    "        for reward in r_dist:\n",
    "            if isinstance(reward, list) and reward[1] <= 0:\n",
    "                raise ValueError(\"Standard deviation in rewards must all be greater than 0\")\n",
    "\n",
    "        self.p_dist = p_dist\n",
    "        self.r_dist = r_dist\n",
    "\n",
    "        self.n_bandits = len(p_dist)\n",
    "        self.action_space = spaces.Discrete(self.n_bandits)\n",
    "        self.observation_space = spaces.Discrete(1)\n",
    "\n",
    "        self._seed()\n",
    "\n",
    "    def _seed(self, seed=None):\n",
    "        self.np_random, seed = seeding.np_random(seed)\n",
    "        return [seed]\n",
    "\n",
    "    def step(self, action):\n",
    "        assert self.action_space.contains(action)\n",
    "\n",
    "        reward = 0\n",
    "        done = True\n",
    "\n",
    "        if np.random.uniform() < self.p_dist[action]:\n",
    "            if not isinstance(self.r_dist[action], list):\n",
    "                reward = self.r_dist[action]\n",
    "            else:\n",
    "                reward = np.random.normal(self.r_dist[action][0], self.r_dist[action][1])\n",
    "\n",
    "        return 0, reward, done, {}\n",
    "\n",
    "    def _reset(self):\n",
    "        return 0\n",
    "\n",
    "    def _render(self, mode='human', close=False):\n",
    "        pass\n",
    "\n",
    "class BanditTenArmedGaussian(BanditEnv):\n",
    "    \"\"\"\n",
    "    10 armed bandit mentioned on page 30 of Sutton and Barto's\n",
    "    [Reinforcement Learning: An Introduction](https://www.dropbox.com/s/b3psxv2r0ccmf80/book2015oct.pdf?dl=0)\n",
    "    Actions always pay out\n",
    "    Mean of payout is pulled from a normal distribution (0, 1) (called q*(a))\n",
    "    Actual reward is drawn from a normal distribution (q*(a), 1)\n",
    "    \"\"\"\n",
    "    def __init__(self, bandits=10):\n",
    "        p_dist = np.full(bandits, 1)\n",
    "        r_dist = []\n",
    "\n",
    "        for i in range(bandits):\n",
    "            r_dist.append([np.random.normal(0, 1), 1])\n",
    "\n",
    "        BanditEnv.__init__(self, p_dist=p_dist, r_dist=r_dist)"
   ]
  },
  {
   "cell_type": "code",
   "execution_count": 274,
   "metadata": {},
   "outputs": [
    {
     "data": {
      "text/plain": [
       "Discrete(4)"
      ]
     },
     "execution_count": 274,
     "metadata": {},
     "output_type": "execute_result"
    }
   ],
   "source": [
    "env = BanditTenArmedGaussian(bandits=4)\n",
    "env.seed=(5)\n",
    "env.action_space"
   ]
  },
  {
   "cell_type": "code",
   "execution_count": 345,
   "metadata": {},
   "outputs": [
    {
     "name": "stdout",
     "output_type": "stream",
     "text": [
      "done\n",
      "H after: [-1.56995814 -1.38324824  0.34570209  2.6075043 ]\n",
      "Softmax: [0.01347765 0.01624431 0.09153242 0.87874561]\n",
      "env dist: [[0.22017105208076254, 1], [0.05274397941762539, 1], [0.4898721866714413, 1], [0.8177212592664066, 1]]\n"
     ]
    },
    {
     "data": {
      "image/png": "[encoded data removed]",
      "text/plain": [
       "<Figure size 432x288 with 1 Axes>"
      ]
     },
     "metadata": {},
     "output_type": "display_data"
    }
   ],
   "source": [
    "class Agent():\n",
    "    def __init__(self, env):\n",
    "        self.env = env\n",
    "        self.alpha = 0.1\n",
    "        self.actions = np.arange(self.env.action_space.n) # available actions\n",
    "        # best action based for env\n",
    "        self.best_action = np.argmax([reward for reward, probability in self.env.r_dist])  \n",
    "        self.average_reward = 0\n",
    "        self.H = np.zeros(4)\n",
    "        self.best_action_percent = []\n",
    "        \n",
    "    def get_action(self):\n",
    "        softmax = self.softmax()\n",
    "        self.best_action_percent.append(softmax[self.best_action])\n",
    "        return np.random.choice(self.actions, p=softmax)\n",
    "        \n",
    "    def softmax(self):\n",
    "        top = np.exp(self.H)\n",
    "        bottom = np.sum(top)\n",
    "        softmax = top/bottom\n",
    "        return softmax\n",
    "    \n",
    "        \n",
    "    def run(self):\n",
    "        for i in range(300):\n",
    "            action = self.get_action()\n",
    "            obs, reward, done, _ = self.env.step(action)\n",
    "\n",
    "            count = i+1\n",
    "            self.average_reward = self.average_reward + (reward - self.average_reward) / count\n",
    "    \n",
    "            onehot = np.zeros(4)\n",
    "            onehot[action] = 1\n",
    "#             self.average_reward = 0\n",
    "            self.H = self.H + self.alpha * (reward - self.average_reward) * (onehot - self.softmax())\n",
    "            \n",
    "        print(\"done\")\n",
    "        print(\"H after:\", self.H)\n",
    "        print(\"Softmax:\", self.softmax())\n",
    "        print(\"env dist:\", self.env.r_dist)\n",
    "        plt.plot(self.best_action_percent)\n",
    "\n",
    "agent = Agent(env)\n",
    "agent.run()"
   ]
  },
  {
   "cell_type": "code",
   "execution_count": 206,
   "metadata": {},
   "outputs": [
    {
     "data": {
      "text/plain": [
       "array([0, 1, 2, 3])"
      ]
     },
     "execution_count": 206,
     "metadata": {},
     "output_type": "execute_result"
    }
   ],
   "source": [
    "# np.random.choice([0, 1, 2, 3], p=[0.5, 0, 0, 0.5])\n",
    "# np.arange(4)\n",
    "# np.arange(4)"
   ]
  }
 ],
 "metadata": {
  "kernelspec": {
   "display_name": "Python 3",
   "language": "python",
   "name": "python3"
  },
  "language_info": {
   "codemirror_mode": {
    "name": "ipython",
    "version": 3
   },
   "file_extension": ".py",
   "mimetype": "text/x-python",
   "name": "python",
   "nbconvert_exporter": "python",
   "pygments_lexer": "ipython3",
   "version": "3.5.3"
  }
 },
 "nbformat": 4,
 "nbformat_minor": 2
}
