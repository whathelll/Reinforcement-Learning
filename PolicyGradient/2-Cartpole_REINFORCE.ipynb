{
 "cells": [
  {
   "cell_type": "markdown",
   "metadata": {},
   "source": [
    "Taken from: https://math.stackexchange.com/questions/2013050/log-of-softmax-function-derivative\n",
    "\n",
    "The derivation of the softmax score function (aka eligibility vector) is as follows:  \n",
    "  \n",
    "First, note that:  \n",
    "#### $$\\pi_\\theta(s,a) = softmax =\\frac{e^{\\phi(s,a)^\\intercal\\theta}}{\\sum_{k=1}^Ne^{\\phi(s,a_k)^\\intercal\\theta}}$$  \n",
    "The important bit here is that the slide only identifies the proportionality, not the full softmax function which requires the normalization factor.  \n",
    "  \n",
    "Continuing the derivation:  \n",
    "  \n",
    "Using the log identity $\\log(x/y) = \\log(x) - \\log(y)$ we can write  \n",
    "#### $$\\log(\\pi_\\theta(s,a)) = \\log(e^{\\phi(s,a)^\\intercal\\theta}) - \\log(\\sum_{k=1}^Ne^{\\phi(s,a_k)^\\intercal\\theta})$$  \n",
    "  \n",
    "Now take the gradient:  \n",
    "#### $$\\nabla_\\theta\\log(\\pi_\\theta(s,a)) = \\nabla_\\theta\\log(e^{\\phi(s,a)^\\intercal\\theta}) - \\nabla_\\theta\\log(\\sum_{k=1}^Ne^{\\phi(s,a_k)^\\intercal\\theta})$$  \n",
    "  \n",
    "The left term simplifies as follows:  \n",
    "  \n",
    "#### $$left= \\nabla_\\theta\\log(e^{\\phi(s,a)^\\intercal\\theta}) = \\nabla_\\theta\\phi(s,a)^\\intercal\\theta = \\phi(s,a)$$\n",
    "  \n",
    "The right term simplifies as follows:  \n",
    "  \n",
    "Using the chain rule:  \n",
    "#### $$\\nabla_x\\log(f(x)) = \\frac{\\nabla_xf(x)}{f(x)}$$\n",
    "  \n",
    "We can write:  \n",
    "  \n",
    "#### $$right = \\nabla_\\theta\\log(\\sum_{k=1}^Ne^{\\phi(s,a_k)^\\intercal\\theta}) = \\frac{\\nabla_\\theta\\sum_{k=1}^Ne^{\\phi(s,a_k)^\\intercal\\theta}}{\\sum_{k=1}^Ne^{\\phi(s,a_k)^\\intercal\\theta}}$$  \n",
    "\n",
    "Taking the gradient of the numerator we get:  \n",
    "  \n",
    "#### $$right = \\frac{\\sum_{k=1}^N{\\phi(s,a_k)}e^{\\phi(s,a_k)^\\intercal\\theta}}{\\sum_{k=1}^Ne^{\\phi(s,a_k)^\\intercal\\theta}}$$\n",
    "Substituting the definition of $\\pi_\\theta(s,a)$ we can simplify to:  \n",
    "  \n",
    "#### $$right = \\sum_{k=1}^N{\\phi(s,a_k)}\\pi_\\theta(s,a_k)$$  \n",
    "Given the definition of Expected Value:  \n",
    "  \n",
    "#### $$\\mathrm{E}[X] = X \\cdot P = x_1p_1+x_2p_2+ ... +x_np_n$$\n",
    "Which in English is just the sum of each feature times its probability.  \n",
    "  \n",
    "####$$X = features = {\\phi(s,a)}$$  \n",
    "####$$P = probabilities =\\pi_\\theta(s,a)$$  \n",
    "So now we can write the expected value of the features:  \n",
    "  \n",
    "#### $$right = \\mathrm{E}_{\\pi_\\theta}[\\phi(s,\\cdot)]$$  \n",
    "Putting it all together:  \n",
    "#### $$\\nabla_\\theta\\log(\\pi_\\theta(s,a)) = left - right = \\phi(s,a) - \\mathrm{E}_{\\pi_\\theta}[\\phi(s,\\cdot)]$$"
   ]
  },
  {
   "cell_type": "code",
   "execution_count": 1,
   "metadata": {},
   "outputs": [
    {
     "name": "stderr",
     "output_type": "stream",
     "text": [
      "/home/william/anaconda3/envs/deeprlbootcamp/lib/python3.5/site-packages/h5py/__init__.py:36: FutureWarning: Conversion of the second argument of issubdtype from `float` to `np.floating` is deprecated. In future, it will be treated as `np.float64 == np.dtype(float).type`.\n",
      "  from ._conv import register_converters as _register_converters\n"
     ]
    },
    {
     "name": "stdout",
     "output_type": "stream",
     "text": [
      "WARNING:tensorflow:From /home/william/anaconda3/envs/deeprlbootcamp/lib/python3.5/site-packages/tensorflow/contrib/learn/python/learn/datasets/base.py:198: retry (from tensorflow.contrib.learn.python.learn.datasets.base) is deprecated and will be removed in a future version.\n",
      "Instructions for updating:\n",
      "Use the retry module or similar alternatives.\n"
     ]
    }
   ],
   "source": [
    "import numpy as np\n",
    "import gym as gym\n",
    "from collections import namedtuple, deque\n",
    "import matplotlib\n",
    "import matplotlib.pyplot as plt\n",
    "import time\n",
    "from IPython import display\n",
    "import cv2 as cv2\n",
    "import random\n",
    "import tensorflow.contrib.eager as tfe\n",
    "import tensorflow as tf\n",
    "tf.enable_eager_execution()\n",
    "%matplotlib inline\n",
    "\n",
    "\n"
   ]
  },
  {
   "cell_type": "code",
   "execution_count": 399,
   "metadata": {
    "collapsed": true
   },
   "outputs": [],
   "source": [
    "class RewardHistory(list):\n",
    "    def plot(self):\n",
    "        R = np.array(self)\n",
    "        mu = np.mean(R, axis=0)\n",
    "        std = np.std(R, axis=0)\n",
    "        f, axarr = plt.subplots(1, 2)\n",
    "        f.set_figheight(5)\n",
    "        f.set_figwidth(20)\n",
    "        f.subplots_adjust(hspace=0.2)\n",
    "        axarr[0].plot(mu)\n",
    "        axarr[0].set_title('Mean reward')\n",
    "        axarr[0].set_xlabel(\"Episodes\")\n",
    "        axarr[0].set_ylabel(\"Reward\")\n",
    "        axarr[1].set_title('Std')\n",
    "        axarr[1].set_xlabel(\"Episodes\")\n",
    "        axarr[1].set_ylabel(\"std\")\n",
    "        axarr[1].plot(std)\n",
    "        plt.show()\n"
   ]
  },
  {
   "cell_type": "markdown",
   "metadata": {},
   "source": [
    "# An agent that samples randomly generated weights until it can do 200 episodes"
   ]
  },
  {
   "cell_type": "code",
   "execution_count": null,
   "metadata": {
    "collapsed": true
   },
   "outputs": [],
   "source": [
    "class RandomAgent():\n",
    "    def __init__(self):\n",
    "        self._weights = np.random.uniform(-1, 1, 4)\n",
    "        self.env = gym.make('CartPole-v0')\n",
    "        \n",
    "    def get_action(self, s):\n",
    "        result = np.matmul(self._weights, s)\n",
    "        if result > 0:\n",
    "            return 1\n",
    "        else:\n",
    "            return 0\n",
    "    def randomize(self):\n",
    "        self._weights = np.random.uniform(-1, 1, 4)\n",
    "    \n",
    "    def train(self, episodes=1):\n",
    "        for episode in range(episodes):\n",
    "            s = self.env.reset()\n",
    "            steps = 0\n",
    "            solved = False\n",
    "            self.randomize() # randomize weights for each episode\n",
    "            while True:\n",
    "                action = self.get_action(s)\n",
    "                s, reward, done, info = self.env.step(action)\n",
    "                steps += 1\n",
    "                if steps == 200:\n",
    "                    solved = True\n",
    "                if done:\n",
    "                    print(\"Episode finished after {} timesteps\".format(steps))\n",
    "                    break\n",
    "            if solved == True:\n",
    "                print(\"Solved\")\n",
    "                break;\n",
    "    \n",
    "    def run(self):\n",
    "        self.env = gym.make('CartPole-v0')\n",
    "        s = self.env.reset()\n",
    "        steps = 0\n",
    "        while True:\n",
    "            self.env.render()\n",
    "            action = self.get_action(s)\n",
    "            s, reward, done, info = self.env.step(action)\n",
    "            steps += 1\n",
    "            if done:\n",
    "                print(\"Episode finished after {} timesteps\".format(steps))\n",
    "                break\n",
    "        self.env.close()\n",
    "\n",
    "agent = RandomAgent()\n",
    "agent.train(2)"
   ]
  },
  {
   "cell_type": "code",
   "execution_count": null,
   "metadata": {
    "collapsed": true
   },
   "outputs": [],
   "source": [
    "agent.run()"
   ]
  },
  {
   "cell_type": "markdown",
   "metadata": {},
   "source": [
    "# Policy Gradient  - raw with np only"
   ]
  },
  {
   "cell_type": "code",
   "execution_count": 363,
   "metadata": {},
   "outputs": [
    {
     "name": "stdout",
     "output_type": "stream",
     "text": [
      "\u001b[33mWARN: gym.spaces.Box autodetected dtype as <class 'numpy.float32'>. Please provide explicit dtype.\u001b[0m\n",
      "CPU times: user 750 ms, sys: 0 ns, total: 750 ms\n",
      "Wall time: 745 ms\n"
     ]
    },
    {
     "data": {
      "image/png": "[encoded data removed]",
      "text/plain": [
       "<Figure size 1080x360 with 2 Axes>"
      ]
     },
     "metadata": {},
     "output_type": "display_data"
    }
   ],
   "source": [
    "class Agent():\n",
    "    def __init__(self):\n",
    "        self.env = gym.make('CartPole-v0')\n",
    "        self.episode_durations = []\n",
    "        self.episode_loss = []\n",
    "        self.theta = np.random.randn(2, 4)\n",
    "        self.learning_rate = 0.1\n",
    "        \n",
    "        \n",
    "    def getAction(self, s):\n",
    "        action_prob = self.softmax(self.theta.dot(s))\n",
    "        action = np.random.choice([0, 1], p=action_prob)\n",
    "        return action\n",
    "    \n",
    "    def softmax(self, x):\n",
    "        top = np.exp(x)\n",
    "        bottom = top.sum()\n",
    "        return top/bottom\n",
    "    \n",
    "    def train(self, episodes=2, display=None):\n",
    "        # Store cumulative returns for each time step\n",
    "        all_returns = [[] for _ in range(200)]\n",
    "        \n",
    "        for i in range(episodes):\n",
    "            s = self.env.reset()\n",
    "            steps = 0\n",
    "            s_mem = []\n",
    "            a_mem = []\n",
    "            r_mem = []\n",
    "            \n",
    "            while True:\n",
    "                action = self.getAction(s)\n",
    "                \n",
    "                s_1, reward, done, info = self.env.step(action)\n",
    "                s_mem.append(s)\n",
    "                a_mem.append(action)\n",
    "                r_mem.append(reward)\n",
    "                \n",
    "                s = s_1\n",
    "                \n",
    "                steps += 1\n",
    "                if done:\n",
    "#                     print(\"Episode finished succe/ssfully after {} timesteps\".format(steps))\n",
    "                    break\n",
    "            \n",
    "            R = 0.\n",
    "            grad = np.zeros_like(self.theta)\n",
    "            for t in reversed(range(len(s_mem))):\n",
    "                s_t = s_mem[t]\n",
    "                a_t = a_mem[t]\n",
    "                r_t = r_mem[t]\n",
    "                R = 0.9 * R + r_t\n",
    "                all_returns[t].append(R)\n",
    "                if len(all_returns[t]) > 0:\n",
    "                    b_t = np.mean(all_returns[t])\n",
    "                \n",
    "                a = np.zeros(self.theta.shape[0])\n",
    "                a[a_t] = 1\n",
    "                p = self.softmax(self.theta.dot(s_t))\n",
    "                gradient = np.outer(a - p, s_t)\n",
    "                gradient = gradient * (R - b_t)\n",
    "                \n",
    "                grad += gradient\n",
    "                \n",
    "#             grad = grad / (np.linalg.norm(grad) + 1e-8)\n",
    "            self.theta += self.learning_rate * grad\n",
    "            \n",
    "            self.episode_durations.append(steps)\n",
    "    \n",
    "    def run(self):\n",
    "        self.env = gym.make('CartPole-v0')\n",
    "        s = self.env.reset()\n",
    "        steps = 0\n",
    "        while True:\n",
    "            self.env.render()\n",
    "            action = self.getAction(s)\n",
    "            s_1, reward, done, info = self.env.step(action)\n",
    "            s = s_1\n",
    "            steps += 1\n",
    "            if done:\n",
    "                print(\"Episode finished successfully after {} timesteps\".format(steps))\n",
    "                break\n",
    "        self.env.close()\n",
    "\n",
    "agent = Agent()\n",
    "\n",
    "def show_chart(agent):\n",
    "    plt.figure(figsize=(15,5))\n",
    "    plt.subplot(1, 2, 1)\n",
    "    plt.xlabel('Episode')\n",
    "    plt.ylabel('Duration')\n",
    "    plt.plot(agent.episode_durations)\n",
    "    plt.subplot(1, 2, 2)\n",
    "    plt.xlabel('Last x Training Cycles')\n",
    "    plt.ylabel('Loss')\n",
    "    plt.plot(list(agent.episode_loss))\n",
    "    plt.show()\n",
    "\n",
    "# %time agent.train(episodes=2, display=show_chart)\n",
    "%time agent.train(episodes=100)\n",
    "show_chart(agent)\n",
    "# plt.plot(agent.episode_durations)\n",
    "\n",
    "# learner.train(1)\n"
   ]
  },
  {
   "cell_type": "code",
   "execution_count": 345,
   "metadata": {},
   "outputs": [
    {
     "name": "stdout",
     "output_type": "stream",
     "text": [
      "\u001b[33mWARN: gym.spaces.Box autodetected dtype as <class 'numpy.float32'>. Please provide explicit dtype.\u001b[0m\n",
      "Episode finished successfully after 200 timesteps\n"
     ]
    }
   ],
   "source": [
    "agent.run()"
   ]
  },
  {
   "cell_type": "markdown",
   "metadata": {},
   "source": [
    "# Policy Gradient with a model"
   ]
  },
  {
   "cell_type": "code",
   "execution_count": 389,
   "metadata": {
    "scrolled": false
   },
   "outputs": [
    {
     "name": "stdout",
     "output_type": "stream",
     "text": [
      "batch: tf.Tensor(\n",
      "[[0.4859656  0.37407863 0.47005868 0.8384385 ]\n",
      " [0.84111583 0.14699411 0.5412959  0.33431852]], shape=(2, 4), dtype=float32)\n",
      "reward: tf.Tensor([5. 5.], shape=(2,), dtype=float32)\n",
      "result: tf.Tensor(\n",
      "[[0.33957377 0.6604262 ]\n",
      " [0.35850075 0.6414992 ]], shape=(2, 2), dtype=float32)\n",
      "Epoch 000: Loss: 0.522, Accuracy: 0.000%\n",
      "Epoch 005: Loss: 0.554, Accuracy: 0.000%\n",
      "Epoch 010: Loss: 0.587, Accuracy: 18.182%\n",
      "Epoch 015: Loss: 0.620, Accuracy: 28.125%\n",
      "Epoch 020: Loss: 0.653, Accuracy: 33.333%\n",
      "Epoch 025: Loss: 0.685, Accuracy: 36.538%\n",
      "Epoch 030: Loss: 0.715, Accuracy: 38.710%\n",
      "Epoch 035: Loss: 0.742, Accuracy: 40.278%\n",
      "Epoch 040: Loss: 0.766, Accuracy: 41.463%\n",
      "Epoch 045: Loss: 0.787, Accuracy: 42.391%\n"
     ]
    },
    {
     "data": {
      "text/plain": [
       "<tf.Tensor: id=21806557, shape=(2, 2), dtype=float32, numpy=\n",
       "array([[0.02679149, 0.97320855],\n",
       "       [0.9730383 , 0.02696169]], dtype=float32)>"
      ]
     },
     "execution_count": 389,
     "metadata": {},
     "output_type": "execute_result"
    }
   ],
   "source": [
    "# import tensorflow.contrib.eager as tfe\n",
    "\n",
    "class LinearModel(tf.keras.Model):\n",
    "    def __init__(self):\n",
    "        super(LinearModel, self).__init__()\n",
    "        self.dense1 = tf.keras.layers.Dense(units=10)\n",
    "        self.dense2 = tf.keras.layers.Dense(units=2)\n",
    "\n",
    "    def call(self, input):\n",
    "        \"\"\"Run the model.\"\"\"\n",
    "        result = self.dense1(input)\n",
    "        result = self.dense2(result)\n",
    "        return result\n",
    "    \n",
    "    def eval(self, inputs):\n",
    "        return tf.nn.softmax(self(inputs))\n",
    "    \n",
    "    \n",
    "    def loss(self, inputs, targets):\n",
    "        y = self(inputs)\n",
    "    #     print(tf.squeeze(y))\n",
    "        y = tf.nn.softmax(y)\n",
    "#         print(\"Y:\", y)\n",
    "#         print(\"targets:\", targets)\n",
    "        idx = tf.stack([tf.range(targets.shape[0]), targets], axis=1)\n",
    "#         print(\"idx:\", idx)\n",
    "        selected_action = tf.gather_nd(y, idx)\n",
    "#         print(\"selected_action:\", selected_action)\n",
    "    #     print(tf.squeeze(targets))\n",
    "#         return tf.losses.softmax_cross_entropy(onehot_labels=targets, logits=y)\n",
    "#         return tf.nn.softmax(y)\n",
    "        return selected_action\n",
    "\n",
    "    def grad(self, inputs, targets, reward):\n",
    "        with tfe.GradientTape() as tape:\n",
    "            loss_value = - self.loss(inputs, targets) * reward\n",
    "        return tape.gradient(loss_value, self.variables)\n",
    "\n",
    "model = LinearModel()\n",
    "# model.summary()\n",
    "\n",
    "batch = tf.random_uniform([2, 4])\n",
    "print(\"batch:\", batch)\n",
    "\n",
    "reward = tf.constant([5., 5.])\n",
    "print(\"reward:\", reward)\n",
    "\n",
    "result = model.eval(batch)\n",
    "print(\"result:\", result)\n",
    "\n",
    "optimizer = tf.train.AdamOptimizer(learning_rate=0.01)\n",
    "\n",
    "# keep results for plotting\n",
    "train_loss_results = []\n",
    "train_accuracy_results = []\n",
    "epoch_loss_avg = tfe.metrics.Mean()\n",
    "epoch_accuracy = tfe.metrics.Accuracy()\n",
    "\n",
    "num_epochs = 50\n",
    "\n",
    "for epoch in range(num_epochs):\n",
    "\n",
    "#     y = tf.constant([[0], [1]], dtype=\"int32\")\n",
    "#     y = tf.one_hot([0, 1], depth=2, dtype=\"int32\")\n",
    "    y = tf.constant([1, 0], dtype=\"int32\")\n",
    "\n",
    "    # Optimize the model\n",
    "    grads = model.grad(batch, y, reward)\n",
    "    optimizer.apply_gradients(zip(grads, model.variables),\n",
    "                              global_step=tf.train.get_or_create_global_step())\n",
    "\n",
    "    # Track progress\n",
    "    epoch_loss_avg(model.loss(batch, y))  # add current batch loss\n",
    "    # compare predicted label to actual label\n",
    "    epoch_accuracy(tf.argmax(model(batch), axis=1, output_type=tf.int32), tf.argmax(y, output_type=tf.int32))\n",
    "\n",
    "    # end epoch\n",
    "    train_loss_results.append(epoch_loss_avg.result())\n",
    "    train_accuracy_results.append(epoch_accuracy.result())\n",
    "\n",
    "    if epoch % 5 == 0:\n",
    "        print(\"Epoch {:03d}: Loss: {:.3f}, Accuracy: {:.3%}\".format(epoch,\n",
    "                                                                epoch_loss_avg.result(),\n",
    "                                                                epoch_accuracy.result()))\n",
    "        \n",
    "model.eval(batch)"
   ]
  },
  {
   "cell_type": "code",
   "execution_count": 390,
   "metadata": {},
   "outputs": [
    {
     "name": "stdout",
     "output_type": "stream",
     "text": [
      "s: [[1 2 3]\n",
      " [1 2 3]\n",
      " [1 2 3]\n",
      " [1 2 3]\n",
      " [1 2 3]]\n",
      "a: [1 0 0 1 1]\n",
      "r: [4.0951 3.439  2.71   1.9    1.    ]\n"
     ]
    }
   ],
   "source": [
    "Transition = namedtuple(\"Transition\", [\"s\", \"a\", \"r\"])\n",
    "\n",
    "class PolicyGradientMemory():\n",
    "    def __init__(self, gamma = 0.9):\n",
    "        self.memory = []\n",
    "        self.gamma = gamma\n",
    "    \n",
    "    def reset(self):\n",
    "        self.memory = []\n",
    "    \n",
    "    def append(self, transition):\n",
    "        self.memory.append(transition)\n",
    "        \n",
    "    \n",
    "    def sample(self):\n",
    "        batched = Transition(*zip(*self.memory))\n",
    "        s = np.array(list(batched.s))\n",
    "        a = np.array(list(batched.a))\n",
    "        r = np.array(list(batched.r), dtype=\"float32\")\n",
    "        \n",
    "        reward = 0.\n",
    "        for i in reversed(range(len(r))):\n",
    "            moving_reward = self.gamma * reward\n",
    "            reward = r[i] + moving_reward\n",
    "            r[i] = reward\n",
    "#             print(i, len(r)-i-1, r[i])\n",
    "#         r = np.expand_dims(r, axis=1)\n",
    "        return [s, a, r]\n",
    "    \n",
    "    def __len__(self):\n",
    "        return len(self.memory)\n",
    "    \n",
    "    def __str__(self):\n",
    "        result = []\n",
    "        for i in range(self.__len__()):\n",
    "            result.append(self.memory[i].__str__() + \" \\n\")\n",
    "        return \"\".join(result)\n",
    "\n",
    "memory = PolicyGradientMemory()\n",
    "\n",
    "memory.append(Transition([1, 2, 3], 1, 1))\n",
    "memory.append(Transition([1, 2, 3], 0, 1))\n",
    "memory.append(Transition([1, 2, 3], 0, 1))\n",
    "memory.append(Transition([1, 2, 3], 1, 1))\n",
    "memory.append(Transition([1, 2, 3], 1, 1))\n",
    "\n",
    "\n",
    "\n",
    "\n",
    "\n",
    "# print(memory)\n",
    "a = memory.sample()\n",
    "print(\"s:\", a[0])\n",
    "print(\"a:\", a[1])\n",
    "print(\"r:\", a[2])\n",
    "\n",
    "\n"
   ]
  },
  {
   "cell_type": "markdown",
   "metadata": {},
   "source": [
    "# Ok, now we do Policy Gradient"
   ]
  },
  {
   "cell_type": "code",
   "execution_count": 404,
   "metadata": {
    "scrolled": false
   },
   "outputs": [
    {
     "name": "stdout",
     "output_type": "stream",
     "text": [
      "\u001b[33mWARN: gym.spaces.Box autodetected dtype as <class 'numpy.float32'>. Please provide explicit dtype.\u001b[0m\n",
      "CPU times: user 6.75 s, sys: 0 ns, total: 6.75 s\n",
      "Wall time: 6.68 s\n"
     ]
    }
   ],
   "source": [
    "class Agent():\n",
    "    def __init__(self):\n",
    "        self.env = gym.make('CartPole-v0')\n",
    "        self.episode_durations = []\n",
    "        self.episode_loss = []\n",
    "        self.model = LinearModel()\n",
    "        self.memory = PolicyGradientMemory()\n",
    "        self.optimizer = tf.train.AdamOptimizer(learning_rate=0.1)\n",
    "        \n",
    "    def getAction(self, s):\n",
    "#         action = self.env.action_space.sample()\n",
    "        s = tf.convert_to_tensor([s])\n",
    "        action_probability = self.model.eval(s).numpy()\n",
    "#         print(action_probability)\n",
    "        action = np.random.choice([0, 1], p=action_probability[0])\n",
    "        return action\n",
    "    \n",
    "    def train(self, episodes=2, display=None):\n",
    "        all_returns = [[] for _ in range(200)]\n",
    "        for i in range(episodes):\n",
    "            s = self.env.reset()\n",
    "            steps = 0\n",
    "            while True:\n",
    "                action = self.getAction(s)\n",
    "                \n",
    "                s_1, reward, done, info = self.env.step(action)\n",
    "                self.memory.append(Transition(s, action, reward))\n",
    "                s = s_1\n",
    "                \n",
    "                steps += 1\n",
    "                if done:\n",
    "#                     print(\"Training episode finished after {} timesteps\".format(steps))\n",
    "                    break\n",
    "        \n",
    "            \n",
    "            s, a, r = self.memory.sample()\n",
    "            \n",
    "            b = np.zeros_like(r)\n",
    "            for t in range(len(r)):\n",
    "                all_returns[t].append(r[t])\n",
    "                b[t] = np.mean(all_returns[t])\n",
    "            \n",
    "            # Optimize the model\n",
    "            grads = self.model.grad(s, a, r-b)\n",
    "            self.optimizer.apply_gradients(zip(grads, self.model.variables),\n",
    "                                      global_step=tf.train.get_or_create_global_step())\n",
    "            self.memory.reset()\n",
    "\n",
    "            self.episode_durations.append(steps)\n",
    "    \n",
    "    def run(self):\n",
    "        self.env = gym.make('CartPole-v0')\n",
    "        s = self.env.reset()\n",
    "        steps = 0\n",
    "        while True:\n",
    "            self.env.render()\n",
    "            action = self.getAction(s)\n",
    "            s_1, reward, done, info = self.env.step(action)\n",
    "            s = s_1\n",
    "            steps += 1\n",
    "            if done:\n",
    "                print(\"Episode finished successfully after {} timesteps\".format(steps))\n",
    "                break\n",
    "        self.env.close()\n",
    "\n",
    "agent = Agent()\n",
    "\n",
    "def show_chart(agent):\n",
    "    plt.figure(figsize=(15,5))\n",
    "    plt.subplot(1, 2, 1)\n",
    "    plt.xlabel('Episode')\n",
    "    plt.ylabel('Duration')\n",
    "    plt.plot(agent.episode_durations)\n",
    "    plt.subplot(1, 2, 2)\n",
    "    plt.xlabel('Last x Training Cycles')\n",
    "    plt.ylabel('Loss')\n",
    "    plt.plot(list(agent.episode_loss))\n",
    "    plt.show()\n",
    "\n",
    "# %time agent.train(episodes=2, display=show_chart)\n",
    "# %time agent.train(episodes=100)\n",
    "# show_chart(agent)\n",
    "# plt.plot(agent.episode_durations)\n",
    "\n",
    "\n",
    "# reward_history = RewardHistory()\n",
    "# for i in range(100):\n",
    "#     agent = Agent()\n",
    "#     agent.train(100)\n",
    "#     reward_history.append(agent.episode_durations)"
   ]
  },
  {
   "cell_type": "code",
   "execution_count": 401,
   "metadata": {},
   "outputs": [
    {
     "data": {
      "image/png": "[encoded data removed]",
      "text/plain": [
       "<Figure size 1440x360 with 2 Axes>"
      ]
     },
     "metadata": {},
     "output_type": "display_data"
    }
   ],
   "source": [
    "reward_history.plot()"
   ]
  },
  {
   "cell_type": "code",
   "execution_count": 405,
   "metadata": {},
   "outputs": [
    {
     "name": "stdout",
     "output_type": "stream",
     "text": [
      "\u001b[33mWARN: gym.spaces.Box autodetected dtype as <class 'numpy.float32'>. Please provide explicit dtype.\u001b[0m\n",
      "Episode finished successfully after 200 timesteps\n",
      "\u001b[33mWARN: gym.spaces.Box autodetected dtype as <class 'numpy.float32'>. Please provide explicit dtype.\u001b[0m\n",
      "Episode finished successfully after 113 timesteps\n"
     ]
    }
   ],
   "source": [
    "###### learner.train(100, show_chart)\n",
    "for i in range(2):\n",
    "    agent.run()\n",
    "# display.clear_output(wait=True)"
   ]
  },
  {
   "cell_type": "markdown",
   "metadata": {
    "collapsed": true
   },
   "source": [
    "# Lessons Learnt\n"
   ]
  },
  {
   "cell_type": "markdown",
   "metadata": {
    "collapsed": true
   },
   "source": [
    "- Adding a baseline made all the difference. Baseline is average of all rewards at that specific time step instead of some arbitrary number or average of the episode or past episodes. "
   ]
  },
  {
   "cell_type": "markdown",
   "metadata": {},
   "source": [
    "# Mean reward over 100 training sessions"
   ]
  },
  {
   "cell_type": "markdown",
   "metadata": {},
   "source": [
    "- REINFORCE\n",
    "![mean reward](./images/REINFORCE.png)"
   ]
  }
 ],
 "metadata": {
  "kernelspec": {
   "display_name": "Python 3",
   "language": "python",
   "name": "python3"
  },
  "language_info": {
   "codemirror_mode": {
    "name": "ipython",
    "version": 3
   },
   "file_extension": ".py",
   "mimetype": "text/x-python",
   "name": "python",
   "nbconvert_exporter": "python",
   "pygments_lexer": "ipython3",
   "version": "3.5.3"
  }
 },
 "nbformat": 4,
 "nbformat_minor": 2
}
