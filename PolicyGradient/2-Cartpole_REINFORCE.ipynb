{
 "cells": [
  {
   "cell_type": "markdown",
   "metadata": {},
   "source": [
    "Taken from: https://math.stackexchange.com/questions/2013050/log-of-softmax-function-derivative\n",
    "\n",
    "The derivation of the softmax score function (aka eligibility vector) is as follows:  \n",
    "  \n",
    "First, note that:  \n",
    "#### $$\\pi_\\theta(s,a) = softmax =\\frac{e^{\\phi(s,a)^\\intercal\\theta}}{\\sum_{k=1}^Ne^{\\phi(s,a_k)^\\intercal\\theta}}$$  \n",
    "The important bit here is that the slide only identifies the proportionality, not the full softmax function which requires the normalization factor.  \n",
    "  \n",
    "Continuing the derivation:  \n",
    "  \n",
    "Using the log identity $\\log(x/y) = \\log(x) - \\log(y)$ we can write  \n",
    "#### $$\\log(\\pi_\\theta(s,a)) = \\log(e^{\\phi(s,a)^\\intercal\\theta}) - \\log(\\sum_{k=1}^Ne^{\\phi(s,a_k)^\\intercal\\theta})$$  \n",
    "  \n",
    "Now take the gradient:  \n",
    "#### $$\\nabla_\\theta\\log(\\pi_\\theta(s,a)) = \\nabla_\\theta\\log(e^{\\phi(s,a)^\\intercal\\theta}) - \\nabla_\\theta\\log(\\sum_{k=1}^Ne^{\\phi(s,a_k)^\\intercal\\theta})$$  \n",
    "  \n",
    "The left term simplifies as follows:  \n",
    "  \n",
    "#### $$left= \\nabla_\\theta\\log(e^{\\phi(s,a)^\\intercal\\theta}) = \\nabla_\\theta\\phi(s,a)^\\intercal\\theta = \\phi(s,a)$$\n",
    "  \n",
    "The right term simplifies as follows:  \n",
    "  \n",
    "Using the chain rule:  \n",
    "#### $$\\nabla_x\\log(f(x)) = \\frac{\\nabla_xf(x)}{f(x)}$$\n",
    "  \n",
    "We can write:  \n",
    "  \n",
    "#### $$right = \\nabla_\\theta\\log(\\sum_{k=1}^Ne^{\\phi(s,a_k)^\\intercal\\theta}) = \\frac{\\nabla_\\theta\\sum_{k=1}^Ne^{\\phi(s,a_k)^\\intercal\\theta}}{\\sum_{k=1}^Ne^{\\phi(s,a_k)^\\intercal\\theta}}$$  \n",
    "\n",
    "Taking the gradient of the numerator we get:  \n",
    "  \n",
    "#### $$right = \\frac{\\sum_{k=1}^N{\\phi(s,a_k)}e^{\\phi(s,a_k)^\\intercal\\theta}}{\\sum_{k=1}^Ne^{\\phi(s,a_k)^\\intercal\\theta}}$$\n",
    "Substituting the definition of $\\pi_\\theta(s,a)$ we can simplify to:  \n",
    "  \n",
    "#### $$right = \\sum_{k=1}^N{\\phi(s,a_k)}\\pi_\\theta(s,a_k)$$  \n",
    "Given the definition of Expected Value:  \n",
    "  \n",
    "#### $$\\mathrm{E}[X] = X \\cdot P = x_1p_1+x_2p_2+ ... +x_np_n$$\n",
    "Which in English is just the sum of each feature times its probability.  \n",
    "  \n",
    "####$$X = features = {\\phi(s,a)}$$  \n",
    "####$$P = probabilities =\\pi_\\theta(s,a)$$  \n",
    "So now we can write the expected value of the features:  \n",
    "  \n",
    "#### $$right = \\mathrm{E}_{\\pi_\\theta}[\\phi(s,\\cdot)]$$  \n",
    "Putting it all together:  \n",
    "#### $$\\nabla_\\theta\\log(\\pi_\\theta(s,a)) = left - right = \\phi(s,a) - \\mathrm{E}_{\\pi_\\theta}[\\phi(s,\\cdot)]$$"
   ]
  },
  {
   "cell_type": "code",
   "execution_count": 1,
   "metadata": {},
   "outputs": [
    {
     "name": "stderr",
     "output_type": "stream",
     "text": [
      "/home/william/anaconda3/envs/deeprlbootcamp/lib/python3.5/site-packages/h5py/__init__.py:36: FutureWarning: Conversion of the second argument of issubdtype from `float` to `np.floating` is deprecated. In future, it will be treated as `np.float64 == np.dtype(float).type`.\n",
      "  from ._conv import register_converters as _register_converters\n"
     ]
    }
   ],
   "source": [
    "import os\n",
    "os.environ[\"CUDA_VISIBLE_DEVICES\"]=\"-1\"\n",
    "\n",
    "import numpy as np\n",
    "import gym as gym\n",
    "from gym import logger as gymlogger\n",
    "gymlogger.set_level(40) #error only\n",
    "from collections import namedtuple, deque\n",
    "import matplotlib\n",
    "import matplotlib.pyplot as plt\n",
    "import time\n",
    "import cv2 as cv2\n",
    "import random\n",
    "import tensorflow.contrib.eager as tfe\n",
    "import tensorflow as tf\n",
    "tf.enable_eager_execution()\n",
    "%matplotlib inline\n",
    "\n",
    "from utils.plotting import RewardHistory\n"
   ]
  },
  {
   "cell_type": "markdown",
   "metadata": {},
   "source": [
    "# An agent that samples randomly generated weights until it can do 200 episodes"
   ]
  },
  {
   "cell_type": "code",
   "execution_count": null,
   "metadata": {
    "collapsed": true
   },
   "outputs": [],
   "source": [
    "class RandomAgent():\n",
    "    def __init__(self):\n",
    "        self._weights = np.random.uniform(-1, 1, 4)\n",
    "        self.env = gym.make('CartPole-v0')\n",
    "        \n",
    "    def get_action(self, s):\n",
    "        result = np.matmul(self._weights, s)\n",
    "        if result > 0:\n",
    "            return 1\n",
    "        else:\n",
    "            return 0\n",
    "    def randomize(self):\n",
    "        self._weights = np.random.uniform(-1, 1, 4)\n",
    "    \n",
    "    def train(self, episodes=1):\n",
    "        for episode in range(episodes):\n",
    "            s = self.env.reset()\n",
    "            steps = 0\n",
    "            solved = False\n",
    "            self.randomize() # randomize weights for each episode\n",
    "            while True:\n",
    "                action = self.get_action(s)\n",
    "                s, reward, done, info = self.env.step(action)\n",
    "                steps += 1\n",
    "                if steps == 200:\n",
    "                    solved = True\n",
    "                if done:\n",
    "                    print(\"Episode finished after {} timesteps\".format(steps))\n",
    "                    break\n",
    "            if solved == True:\n",
    "                print(\"Solved\")\n",
    "                break;\n",
    "    \n",
    "    def run(self):\n",
    "        self.env = gym.make('CartPole-v0')\n",
    "        s = self.env.reset()\n",
    "        steps = 0\n",
    "        while True:\n",
    "            self.env.render()\n",
    "            action = self.get_action(s)\n",
    "            s, reward, done, info = self.env.step(action)\n",
    "            steps += 1\n",
    "            if done:\n",
    "                print(\"Episode finished after {} timesteps\".format(steps))\n",
    "                break\n",
    "        self.env.close()\n",
    "\n",
    "agent = RandomAgent()\n",
    "agent.train(2)"
   ]
  },
  {
   "cell_type": "code",
   "execution_count": null,
   "metadata": {
    "collapsed": true
   },
   "outputs": [],
   "source": [
    "agent.run()"
   ]
  },
  {
   "cell_type": "markdown",
   "metadata": {},
   "source": [
    "# Policy Gradient  - raw with np only"
   ]
  },
  {
   "cell_type": "code",
   "execution_count": null,
   "metadata": {
    "collapsed": true,
    "scrolled": true
   },
   "outputs": [],
   "source": [
    "class Agent():\n",
    "    def __init__(self):\n",
    "        self.env = gym.make('CartPole-v0')\n",
    "        self.episode_durations = []\n",
    "        self.episode_loss = []\n",
    "        self.theta = np.random.randn(2, 4)\n",
    "        self.learning_rate = 0.1\n",
    "        \n",
    "        \n",
    "    def getAction(self, s):\n",
    "        action_prob = self.softmax(self.theta.dot(s))\n",
    "        action = np.random.choice([0, 1], p=action_prob)\n",
    "        return action\n",
    "    \n",
    "    def softmax(self, x):\n",
    "        top = np.exp(x)\n",
    "        bottom = top.sum()\n",
    "        return top/bottom\n",
    "    \n",
    "    def train(self, episodes=2):\n",
    "        # Store cumulative returns for each time step\n",
    "        all_returns = [[] for _ in range(200)]\n",
    "        \n",
    "        for i in range(episodes):\n",
    "            s = self.env.reset()\n",
    "            steps = 0\n",
    "            s_mem = []\n",
    "            a_mem = []\n",
    "            r_mem = []\n",
    "            \n",
    "            while True:\n",
    "                action = self.getAction(s)\n",
    "                \n",
    "                s_1, reward, done, info = self.env.step(action)\n",
    "                s_mem.append(s)\n",
    "                a_mem.append(action)\n",
    "                r_mem.append(reward)\n",
    "                \n",
    "                s = s_1\n",
    "                \n",
    "                steps += 1\n",
    "                if done:\n",
    "#                     print(\"Episode finished succe/ssfully after {} timesteps\".format(steps))\n",
    "                    break\n",
    "            \n",
    "            R = 0.\n",
    "            grad = np.zeros_like(self.theta)\n",
    "            for t in reversed(range(len(s_mem))):\n",
    "                s_t = s_mem[t]\n",
    "                a_t = a_mem[t]\n",
    "                r_t = r_mem[t]\n",
    "                R = 0.9 * R + r_t\n",
    "                all_returns[t].append(R)\n",
    "                if len(all_returns[t]) > 0:\n",
    "                    b_t = np.mean(all_returns[t])\n",
    "                \n",
    "                a = np.zeros(self.theta.shape[0])\n",
    "                a[a_t] = 1\n",
    "                p = self.softmax(self.theta.dot(s_t))\n",
    "                gradient = np.outer(a - p, s_t)\n",
    "                gradient = gradient * (R - b_t)\n",
    "                \n",
    "                grad += gradient\n",
    "                \n",
    "#             grad = grad / (np.linalg.norm(grad) + 1e-8)\n",
    "            self.theta += self.learning_rate * grad\n",
    "            \n",
    "            self.episode_durations.append(steps)\n",
    "    \n",
    "    def run(self):\n",
    "        self.env = gym.make('CartPole-v0')\n",
    "        s = self.env.reset()\n",
    "        steps = 0\n",
    "        while True:\n",
    "            self.env.render()\n",
    "            action = self.getAction(s)\n",
    "            s_1, reward, done, info = self.env.step(action)\n",
    "            s = s_1\n",
    "            steps += 1\n",
    "            if done:\n",
    "                print(\"Episode finished successfully after {} timesteps\".format(steps))\n",
    "                break\n",
    "        self.env.close()\n",
    "\n",
    "agent = Agent()\n",
    "\n",
    "reward_history = RewardHistory()\n",
    "for i in range(100):\n",
    "    agent = Agent()\n",
    "    agent.train(100)\n",
    "    reward_history.append(agent.episode_durations)\n",
    "\n",
    "reward_history.plot()"
   ]
  },
  {
   "cell_type": "code",
   "execution_count": null,
   "metadata": {
    "collapsed": true
   },
   "outputs": [],
   "source": []
  },
  {
   "cell_type": "code",
   "execution_count": null,
   "metadata": {
    "collapsed": true
   },
   "outputs": [],
   "source": [
    "agent.run()"
   ]
  },
  {
   "cell_type": "markdown",
   "metadata": {},
   "source": [
    "# Policy Gradient with a model"
   ]
  },
  {
   "cell_type": "code",
   "execution_count": null,
   "metadata": {
    "collapsed": true
   },
   "outputs": [],
   "source": [
    "tf.log([[0.5, 0.5], [0.2, 0.8]])"
   ]
  },
  {
   "cell_type": "code",
   "execution_count": 13,
   "metadata": {
    "scrolled": false
   },
   "outputs": [
    {
     "name": "stdout",
     "output_type": "stream",
     "text": [
      "batch: tf.Tensor(\n",
      "[[0.35494792 0.06438994 0.32992268 0.06537461]\n",
      " [0.850026   0.3105111  0.4168911  0.46105075]\n",
      " [0.27419186 0.587309   0.83842146 0.8896133 ]], shape=(3, 4), dtype=float32)\n",
      "reward: tf.Tensor(\n",
      "[[5.]\n",
      " [5.]\n",
      " [5.]], shape=(3, 1), dtype=float32)\n",
      "result: tf.Tensor(\n",
      "[[0.3678141  0.6321859 ]\n",
      " [0.1988718  0.8011282 ]\n",
      " [0.2679373  0.73206276]], shape=(3, 2), dtype=float32)\n"
     ]
    },
    {
     "data": {
      "text/plain": [
       "<tf.Tensor: id=913409, shape=(3, 2), dtype=float32, numpy=\n",
       "array([[0.37288162, 0.6271183 ],\n",
       "       [0.18389617, 0.8161038 ],\n",
       "       [0.2385335 , 0.76146656]], dtype=float32)>"
      ]
     },
     "execution_count": 13,
     "metadata": {},
     "output_type": "execute_result"
    }
   ],
   "source": [
    "# import tensorflow.contrib.eager as tfe\n",
    "\n",
    "class LinearModel(tf.keras.Model):\n",
    "    def __init__(self):\n",
    "        super(LinearModel, self).__init__()\n",
    "        self.dense1 = tf.keras.layers.Dense(units=2, activation=tf.nn.softmax)\n",
    "\n",
    "    def call(self, input):\n",
    "        result = self.dense1(input)\n",
    "        return result\n",
    "    \n",
    "    \n",
    "    def loss(self, inputs, targets):\n",
    "        y = self(inputs)\n",
    "        loss = y * tf.cast(targets, dtype=\"float32\")\n",
    "        loss = tf.reduce_sum(loss, reduction_indices=1)\n",
    "#         print(loss.shape)\n",
    "        loss = tf.log(loss)\n",
    "        return loss\n",
    "\n",
    "    def grad(self, inputs, targets, reward):\n",
    "        with tfe.GradientTape() as tape:\n",
    "            loss_value = - tf.reduce_mean(self.loss(inputs, targets) * reward)\n",
    "        return tape.gradient(loss_value, self.variables)\n",
    "    \n",
    "    def train(self, optimizer, inputs, targets, reward):\n",
    "        grads = self.grad(inputs, targets, reward)\n",
    "        optimizer.apply_gradients(zip(grads, self.variables),\n",
    "                          global_step=tf.train.get_or_create_global_step())\n",
    "    \n",
    "\n",
    "model = LinearModel()\n",
    "\n",
    "batch = tf.random_uniform([3, 4])\n",
    "print(\"batch:\", batch)\n",
    "\n",
    "reward = tf.constant([5., 5., 5.])\n",
    "reward = tf.expand_dims(reward, axis=1)\n",
    "print(\"reward:\", reward)\n",
    "\n",
    "result = model(batch)\n",
    "print(\"result:\", result)\n",
    "\n",
    "optimizer = tf.train.AdamOptimizer(learning_rate=0.01)\n",
    "\n",
    "num_epochs = 5\n",
    "\n",
    "for epoch in range(num_epochs):\n",
    "\n",
    "#     y = tf.constant([[0], [1]], dtype=\"int32\")\n",
    "    y = tf.one_hot([0, 1, 1], depth=2, dtype=\"int32\")\n",
    "#     y = tf.constant([1, 0, 1], dtype=\"int32\")\n",
    "\n",
    "    # Optimize the model\n",
    "    grads = model.grad(batch, y, reward)\n",
    "    optimizer.apply_gradients(zip(grads, model.variables),\n",
    "                              global_step=tf.train.get_or_create_global_step())\n",
    "        \n",
    "model(batch)"
   ]
  },
  {
   "cell_type": "code",
   "execution_count": 22,
   "metadata": {},
   "outputs": [
    {
     "name": "stdout",
     "output_type": "stream",
     "text": [
      "s: [[1 2 3]\n",
      " [1 2 3]\n",
      " [1 2 3]\n",
      " [1 2 3]\n",
      " [1 2 3]]\n",
      "a: [1 0 0 1 1]\n",
      "s1: [[4 5 6]\n",
      " [4 5 6]\n",
      " [4 5 6]\n",
      " [4 5 6]\n",
      " [4 5 6]]\n",
      "r: [4.0951 3.439  2.71   1.9    1.    ]\n"
     ]
    }
   ],
   "source": [
    "Transition = namedtuple(\"Transition\", [\"s\", \"a\", \"s1\", \"r\"])\n",
    "\n",
    "class PolicyGradientMemory():\n",
    "    def __init__(self, gamma = 0.9):\n",
    "        self.memory = []\n",
    "        self.gamma = gamma\n",
    "    \n",
    "    def reset(self):\n",
    "        self.memory = []\n",
    "    \n",
    "    def append(self, transition):\n",
    "        self.memory.append(transition)\n",
    "        \n",
    "    \n",
    "    def sample(self):\n",
    "        batched = Transition(*zip(*self.memory))\n",
    "        s = np.array(list(batched.s))\n",
    "        a = np.array(list(batched.a))\n",
    "        s1 = np.array(list(batched.s1))\n",
    "        r = np.array(list(batched.r), dtype=\"float32\")\n",
    "        \n",
    "        reward = 0.\n",
    "        for i in reversed(range(len(r))):\n",
    "            moving_reward = self.gamma * reward\n",
    "            reward = r[i] + moving_reward\n",
    "            r[i] = reward\n",
    "#             print(i, len(r)-i-1, r[i])\n",
    "#         r = np.expand_dims(r, axis=1)\n",
    "        return [s, a, s1, r]\n",
    "    \n",
    "    def __len__(self):\n",
    "        return len(self.memory)\n",
    "    \n",
    "    def __str__(self):\n",
    "        result = []\n",
    "        for i in range(self.__len__()):\n",
    "            result.append(self.memory[i].__str__() + \" \\n\")\n",
    "        return \"\".join(result)\n",
    "\n",
    "memory = PolicyGradientMemory()\n",
    "\n",
    "memory.append(Transition([1, 2, 3], 1, [4, 5, 6], 1))\n",
    "memory.append(Transition([1, 2, 3], 0, [4, 5, 6], 1))\n",
    "memory.append(Transition([1, 2, 3], 0, [4, 5, 6], 1))\n",
    "memory.append(Transition([1, 2, 3], 1, [4, 5, 6], 1))\n",
    "memory.append(Transition([1, 2, 3], 1, [4, 5, 6], 1))\n",
    "\n",
    "\n",
    "\n",
    "\n",
    "\n",
    "# print(memory)\n",
    "a = memory.sample()\n",
    "print(\"s:\", a[0])\n",
    "print(\"a:\", a[1])\n",
    "print(\"s1:\", a[2])\n",
    "print(\"r:\", a[3])\n",
    "\n",
    "\n"
   ]
  },
  {
   "cell_type": "markdown",
   "metadata": {},
   "source": [
    "# Ok, now we do Policy Gradient"
   ]
  },
  {
   "cell_type": "code",
   "execution_count": 24,
   "metadata": {
    "scrolled": true
   },
   "outputs": [
    {
     "data": {
      "image/png": "[encoded data removed]",
      "text/plain": [
       "<Figure size 1440x360 with 2 Axes>"
      ]
     },
     "metadata": {},
     "output_type": "display_data"
    }
   ],
   "source": [
    "class Agent():\n",
    "    def __init__(self):\n",
    "        self.env = gym.make('CartPole-v0')\n",
    "        self.episode_durations = []\n",
    "        self.episode_loss = []\n",
    "        self.model = LinearModel()\n",
    "        self.memory = PolicyGradientMemory()\n",
    "        self.optimizer = tf.train.AdamOptimizer(learning_rate=0.1)\n",
    "        \n",
    "    def getAction(self, s):\n",
    "        s = tf.convert_to_tensor([s])\n",
    "        action_probability = self.model(s).numpy()\n",
    "#         print(action_probability)\n",
    "        action = np.random.choice([0, 1], p=action_probability[0])\n",
    "        return action\n",
    "    \n",
    "    def train(self, episodes=2):\n",
    "        all_returns = [[] for _ in range(200)]\n",
    "        for i in range(episodes):\n",
    "            s = self.env.reset()\n",
    "            steps = 0\n",
    "            while True:\n",
    "                action = self.getAction(s)\n",
    "                \n",
    "                s_1, reward, done, info = self.env.step(action)\n",
    "                self.memory.append(Transition(s, action, s_1, reward))\n",
    "                s = s_1\n",
    "                \n",
    "                steps += 1\n",
    "                if done:\n",
    "                    break\n",
    "        \n",
    "            \n",
    "            s, a, s1, r = self.memory.sample()\n",
    "            a = tf.one_hot(a, depth=2, dtype=\"int32\")\n",
    "            b = np.zeros_like(r)\n",
    "            for t in range(len(r)):\n",
    "                all_returns[t].append(r[t])\n",
    "                b[t] = np.mean(all_returns[t])\n",
    "            \n",
    "            # Optimize the model\n",
    "            self.model.train(self.optimizer, s, a, r-b)\n",
    "            self.memory.reset()\n",
    "\n",
    "            self.episode_durations.append(steps)\n",
    "    \n",
    "    def run(self):\n",
    "        self.env = gym.make('CartPole-v0')\n",
    "        s = self.env.reset()\n",
    "        steps = 0\n",
    "        while True:\n",
    "            self.env.render()\n",
    "            action = self.getAction(s)\n",
    "            s_1, reward, done, info = self.env.step(action)\n",
    "            s = s_1\n",
    "            steps += 1\n",
    "            if done:\n",
    "                print(\"Episode finished successfully after {} timesteps\".format(steps))\n",
    "                break\n",
    "        self.env.close()\n",
    "\n",
    "agent = Agent()\n",
    "\n",
    "reward_history = RewardHistory()\n",
    "for i in range(1):\n",
    "    agent = Agent()\n",
    "    agent.train(100)\n",
    "    reward_history.append(agent.episode_durations)\n",
    "\n",
    "reward_history.plot()"
   ]
  },
  {
   "cell_type": "code",
   "execution_count": null,
   "metadata": {
    "collapsed": true
   },
   "outputs": [],
   "source": [
    "###### learner.train(100, show_chart)\n",
    "for i in range(2):\n",
    "    agent.run()\n"
   ]
  },
  {
   "cell_type": "markdown",
   "metadata": {
    "collapsed": true
   },
   "source": [
    "# Lessons Learnt\n"
   ]
  },
  {
   "cell_type": "markdown",
   "metadata": {
    "collapsed": true
   },
   "source": [
    "- Adding a baseline made all the difference. Baseline is average of all rewards at that specific time step instead of some arbitrary number or average of the episode or past episodes. "
   ]
  },
  {
   "cell_type": "markdown",
   "metadata": {},
   "source": [
    "# Mean reward over 100 training sessions"
   ]
  },
  {
   "cell_type": "markdown",
   "metadata": {},
   "source": [
    "- REINFORCE without a baseline\n",
    "![mean reward](./images/REINFORCE_no_baseline.png)\n",
    "\n",
    "- REINFORCE with a baseline\n",
    "![mean reward](./images/REINFORCE.png)"
   ]
  }
 ],
 "metadata": {
  "kernelspec": {
   "display_name": "Python 3",
   "language": "python",
   "name": "python3"
  },
  "language_info": {
   "codemirror_mode": {
    "name": "ipython",
    "version": 3
   },
   "file_extension": ".py",
   "mimetype": "text/x-python",
   "name": "python",
   "nbconvert_exporter": "python",
   "pygments_lexer": "ipython3",
   "version": "3.5.3"
  }
 },
 "nbformat": 4,
 "nbformat_minor": 2
}
