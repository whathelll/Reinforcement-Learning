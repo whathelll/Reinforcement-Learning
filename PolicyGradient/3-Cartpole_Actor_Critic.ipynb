{
 "cells": [
  {
   "cell_type": "code",
   "execution_count": 1,
   "metadata": {},
   "outputs": [
    {
     "name": "stderr",
     "output_type": "stream",
     "text": [
      "/home/william/anaconda3/envs/deeprlbootcamp/lib/python3.5/site-packages/h5py/__init__.py:36: FutureWarning: Conversion of the second argument of issubdtype from `float` to `np.floating` is deprecated. In future, it will be treated as `np.float64 == np.dtype(float).type`.\n",
      "  from ._conv import register_converters as _register_converters\n"
     ]
    }
   ],
   "source": [
    "import os\n",
    "os.environ[\"CUDA_VISIBLE_DEVICES\"]=\"-1\"\n",
    "\n",
    "import numpy as np\n",
    "import gym as gym\n",
    "from gym import logger as gymlogger\n",
    "gymlogger.set_level(40) #error only\n",
    "from collections import namedtuple, deque\n",
    "import matplotlib\n",
    "import matplotlib.pyplot as plt\n",
    "import time\n",
    "import cv2 as cv2\n",
    "import random\n",
    "import tensorflow.contrib.eager as tfe\n",
    "import tensorflow as tf\n",
    "tf.enable_eager_execution()\n",
    "%matplotlib inline\n",
    "\n",
    "from utils.plotting import RewardHistory\n"
   ]
  },
  {
   "cell_type": "markdown",
   "metadata": {},
   "source": [
    "# Policy Gradient with a model"
   ]
  },
  {
   "cell_type": "code",
   "execution_count": 2,
   "metadata": {
    "scrolled": false
   },
   "outputs": [
    {
     "name": "stdout",
     "output_type": "stream",
     "text": [
      "batch: tf.Tensor(\n",
      "[[0.1200614  0.5072874  0.8035834  0.6543182 ]\n",
      " [0.6132152  0.26021087 0.63011026 0.10300839]\n",
      " [0.04349005 0.54816675 0.6988107  0.21357834]], shape=(3, 4), dtype=float32)\n",
      "reward: tf.Tensor(\n",
      "[[5.]\n",
      " [5.]\n",
      " [5.]], shape=(3, 1), dtype=float32)\n",
      "result: tf.Tensor(\n",
      "[[0.47400573 0.5259943 ]\n",
      " [0.36840683 0.63159317]\n",
      " [0.47008684 0.52991307]], shape=(3, 2), dtype=float32)\n"
     ]
    },
    {
     "data": {
      "text/plain": [
       "<tf.Tensor: id=449, shape=(3, 2), dtype=float32, numpy=\n",
       "array([[0.4315049 , 0.5684951 ],\n",
       "       [0.31553724, 0.6844628 ],\n",
       "       [0.42022517, 0.57977486]], dtype=float32)>"
      ]
     },
     "execution_count": 2,
     "metadata": {},
     "output_type": "execute_result"
    }
   ],
   "source": [
    "# import tensorflow.contrib.eager as tfe\n",
    "\n",
    "class LinearModel(tf.keras.Model):\n",
    "    def __init__(self):\n",
    "        super(LinearModel, self).__init__()\n",
    "        self.dense1 = tf.keras.layers.Dense(units=2, activation=tf.nn.softmax)\n",
    "\n",
    "    def call(self, input):\n",
    "        result = self.dense1(input)\n",
    "        return result\n",
    "    \n",
    "    \n",
    "    def loss(self, inputs, targets):\n",
    "        y = self(inputs)\n",
    "        loss = y * tf.cast(targets, dtype=\"float32\")\n",
    "        loss = tf.reduce_sum(loss, reduction_indices=1)\n",
    "#         print(loss.shape)\n",
    "        loss = tf.log(loss)\n",
    "        return loss\n",
    "\n",
    "    def grad(self, inputs, targets, reward):\n",
    "        with tfe.GradientTape() as tape:\n",
    "            loss_value = - tf.reduce_mean(self.loss(inputs, targets) * reward)\n",
    "        return tape.gradient(loss_value, self.variables)\n",
    "    \n",
    "    def train(self, optimizer, inputs, targets, reward):\n",
    "        grads = self.grad(inputs, targets, reward)\n",
    "        optimizer.apply_gradients(zip(grads, self.variables),\n",
    "                          global_step=tf.train.get_or_create_global_step())\n",
    "    \n",
    "model = LinearModel()\n",
    "\n",
    "batch = tf.random_uniform([3, 4])\n",
    "print(\"batch:\", batch)\n",
    "\n",
    "reward = tf.constant([5., 5., 5.])\n",
    "reward = tf.expand_dims(reward, axis=1)\n",
    "print(\"reward:\", reward)\n",
    "\n",
    "result = model(batch)\n",
    "print(\"result:\", result)\n",
    "\n",
    "optimizer = tf.train.AdamOptimizer(learning_rate=0.01)\n",
    "\n",
    "num_epochs = 5\n",
    "\n",
    "for epoch in range(num_epochs):\n",
    "\n",
    "#     y = tf.constant([[0], [1]], dtype=\"int32\")\n",
    "    y = tf.one_hot([0, 1, 1], depth=2, dtype=\"int32\")\n",
    "#     y = tf.constant([1, 0, 1], dtype=\"int32\")\n",
    "\n",
    "    # Optimize the model\n",
    "    grads = model.grad(batch, y, reward)\n",
    "    optimizer.apply_gradients(zip(grads, model.variables),\n",
    "                              global_step=tf.train.get_or_create_global_step())\n",
    "        \n",
    "model(batch)"
   ]
  },
  {
   "cell_type": "code",
   "execution_count": 55,
   "metadata": {},
   "outputs": [
    {
     "name": "stdout",
     "output_type": "stream",
     "text": [
      "batch: tf.Tensor(\n",
      "[[0.5109527  0.67437243 0.07565129 0.83051825]\n",
      " [0.56682515 0.09305835 0.17109334 0.8088187 ]\n",
      " [0.3299663  0.8917904  0.73388386 0.58941436]], shape=(3, 4), dtype=float32)\n",
      "result: tf.Tensor(\n",
      "[[0.14664468]\n",
      " [0.04131112]\n",
      " [0.08410746]], shape=(3, 1), dtype=float32)\n"
     ]
    },
    {
     "data": {
      "text/plain": [
       "<tf.Tensor: id=99885107, shape=(3, 1), dtype=float32, numpy=\n",
       "array([[1.1399497],\n",
       "       [0.9152825],\n",
       "       [1.1756341]], dtype=float32)>"
      ]
     },
     "execution_count": 55,
     "metadata": {},
     "output_type": "execute_result"
    }
   ],
   "source": [
    "# import tensorflow.contrib.eager as tfe\n",
    "\n",
    "class ValueModel(tf.keras.Model):\n",
    "    def __init__(self):\n",
    "        super(ValueModel, self).__init__()\n",
    "        self.dense1 = tf.keras.layers.Dense(units=32, activation=tf.nn.relu)\n",
    "        self.dense2 = tf.keras.layers.Dense(units=1)\n",
    "\n",
    "    def call(self, inputs):\n",
    "        result = self.dense1(inputs)\n",
    "        result = self.dense2(result)\n",
    "#         result = self.dense2(inputs)\n",
    "        return result\n",
    "    \n",
    "    \n",
    "    def loss(self, inputs, targets):\n",
    "        y = self(inputs)\n",
    "        loss = tf.losses.mean_squared_error(targets, y)\n",
    "        return loss\n",
    "\n",
    "    def grad(self, inputs, targets):\n",
    "        with tfe.GradientTape() as tape:\n",
    "            loss_value = tf.reduce_mean(self.loss(inputs, targets))\n",
    "        return tape.gradient(loss_value, self.variables)\n",
    "    \n",
    "    def train(self, optimizer, inputs, targets):\n",
    "        grads = self.grad(inputs, targets)\n",
    "        optimizer.apply_gradients(zip(grads, self.variables),\n",
    "                          global_step=tf.train.get_or_create_global_step())\n",
    "    \n",
    "\n",
    "model = ValueModel()\n",
    "\n",
    "batch = tf.random_uniform([3, 4])\n",
    "print(\"batch:\", batch)\n",
    "\n",
    "result = model(batch)\n",
    "print(\"result:\", result)\n",
    "\n",
    "optimizer = tf.train.AdamOptimizer(learning_rate=0.01)\n",
    "\n",
    "num_epochs = 5\n",
    "\n",
    "for epoch in range(num_epochs):\n",
    "\n",
    "    y = tf.expand_dims(tf.constant([5, 5, 5], dtype=\"int32\"), axis=1)\n",
    "\n",
    "    # Optimize the model\n",
    "    model.train(optimizer, batch, y)\n",
    "    \n",
    "        \n",
    "model(batch)"
   ]
  },
  {
   "cell_type": "markdown",
   "metadata": {},
   "source": [
    "# Ok, now we do Policy Gradient"
   ]
  },
  {
   "cell_type": "code",
   "execution_count": 56,
   "metadata": {
    "scrolled": false
   },
   "outputs": [
    {
     "data": {
      "image/png": "[encoded data removed]",
      "text/plain": [
       "<Figure size 1440x360 with 2 Axes>"
      ]
     },
     "metadata": {},
     "output_type": "display_data"
    },
    {
     "data": {
      "image/png": "[encoded data removed]",
      "text/plain": [
       "<Figure size 1440x360 with 2 Axes>"
      ]
     },
     "metadata": {},
     "output_type": "display_data"
    }
   ],
   "source": [
    "class Agent():\n",
    "    def __init__(self):\n",
    "        self.env = gym.make('CartPole-v0')\n",
    "        self.episode_durations = []\n",
    "        self.episode_loss = []\n",
    "        self.gamma = 0.99\n",
    "        self.model = LinearModel()\n",
    "        self.value_model = ValueModel()\n",
    "#         self.memory = PolicyGradientMemory()\n",
    "        self.action_optimizer = tf.train.AdamOptimizer(learning_rate=0.01)\n",
    "        self.value_optimizer = tf.train.AdamOptimizer(learning_rate=0.01)\n",
    "        \n",
    "    def getAction(self, s):\n",
    "        s = tf.convert_to_tensor([s])\n",
    "        action_probability = self.model(s).numpy()\n",
    "#         print(action_probability)\n",
    "        action = np.random.choice([0, 1], p=action_probability[0])\n",
    "        return action\n",
    "    \n",
    "    def train(self, episodes=2):\n",
    "        all_returns = [[] for _ in range(200)]\n",
    "        for i in range(episodes):\n",
    "            s = self.env.reset()\n",
    "            steps = 0\n",
    "            while True:\n",
    "                action = self.getAction(s)\n",
    "                \n",
    "                s_1, reward, done, info = self.env.step(action)\n",
    "#                 self.memory.append(Transition(s, action, reward))\n",
    "                \n",
    "                s0 = tf.constant([s])\n",
    "                s1 = tf.constant([s_1])\n",
    "                r = tf.constant([reward])\n",
    "                a = tf.one_hot([action], depth=2, dtype=\"int32\")\n",
    "                d = tf.constant([1 - done], dtype=tf.float32)\n",
    "                \n",
    "                v = self.value_model(s0)\n",
    "                v_prime = self.value_model(s1)\n",
    "                y = r + self.gamma * d * v_prime\n",
    "                td_loss = y - v\n",
    "#                 print(tf.reduce_max(td_loss).numpy())\n",
    "                self.episode_loss.append(tf.reduce_max(td_loss).numpy())\n",
    "                self.value_model.train(self.value_optimizer, s0, y)\n",
    "                self.model.train(self.action_optimizer, s0, a, td_loss)\n",
    "    \n",
    "                s = s_1\n",
    "                \n",
    "                steps += 1\n",
    "                if done:\n",
    "                    break\n",
    "\n",
    "            self.episode_durations.append(steps)\n",
    "    \n",
    "    def run(self):\n",
    "        self.env = gym.make('CartPole-v0')\n",
    "        s = self.env.reset()\n",
    "        steps = 0\n",
    "        while True:\n",
    "            self.env.render()\n",
    "            action = self.getAction(s)\n",
    "            s_1, reward, done, info = self.env.step(action)\n",
    "            s = s_1\n",
    "            steps += 1\n",
    "            if done:\n",
    "                print(\"Episode finished successfully after {} timesteps\".format(steps))\n",
    "                break\n",
    "        self.env.close()\n",
    "\n",
    "agent = Agent()\n",
    "\n",
    "reward_history = RewardHistory()\n",
    "loss_history = RewardHistory()\n",
    "for i in range(10):\n",
    "    agent = Agent()\n",
    "    agent.train(100)\n",
    "    reward_history.append(agent.episode_durations)\n",
    "    loss_history.append(agent.episode_loss)\n",
    "\n",
    "reward_history.plot()\n",
    "loss_history.plot()"
   ]
  },
  {
   "cell_type": "code",
   "execution_count": null,
   "metadata": {
    "collapsed": true
   },
   "outputs": [],
   "source": [
    "###### learner.train(100, show_chart)\n",
    "for i in range(2):\n",
    "    agent.run()\n"
   ]
  },
  {
   "cell_type": "markdown",
   "metadata": {
    "collapsed": true
   },
   "source": [
    "# Lessons Learnt\n"
   ]
  },
  {
   "cell_type": "markdown",
   "metadata": {
    "collapsed": true
   },
   "source": [
    "- This is sensitive to the learning rate of both actor and critic"
   ]
  },
  {
   "cell_type": "markdown",
   "metadata": {},
   "source": [
    "# Mean reward over 100 training sessions"
   ]
  },
  {
   "cell_type": "markdown",
   "metadata": {},
   "source": [
    "- Actor Critic without a baseline\n",
    "![mean reward](./images/actor_critic.png)"
   ]
  },
  {
   "cell_type": "code",
   "execution_count": null,
   "metadata": {
    "collapsed": true
   },
   "outputs": [],
   "source": []
  },
  {
   "cell_type": "markdown",
   "metadata": {},
   "source": [
    "# Combined model"
   ]
  },
  {
   "cell_type": "code",
   "execution_count": null,
   "metadata": {
    "collapsed": true
   },
   "outputs": [],
   "source": [
    "# import tensorflow.contrib.eager as tfe\n",
    "\n",
    "class CombinedModel(tf.keras.Model):\n",
    "    def __init__(self):\n",
    "        super(ValueModel, self).__init__()\n",
    "        self.dense1 = tf.keras.layers.Dense(units=128, activation=tf.nn.relu)\n",
    "        self.dense2 = tf.keras.layers.Dense(units=1)\n",
    "\n",
    "    def call(self, input):\n",
    "        result = self.dense1(input)\n",
    "        result = self.dense2(result)\n",
    "        return result\n",
    "    \n",
    "    \n",
    "    def v_loss(self, inputs, targets):\n",
    "        y = self(inputs)\n",
    "        loss = tf.losses.mean_squared_error(targets, y)\n",
    "        return loss\n",
    "\n",
    "    def v_grad(self, inputs, targets):\n",
    "        with tfe.GradientTape() as tape:\n",
    "            loss_value = tf.reduce_mean(self.loss(inputs, targets))\n",
    "        return tape.gradient(loss_value, self.variables)\n",
    "    \n",
    "    def v_train(self, optimizer, inputs, targets):\n",
    "        grads = self.grad(inputs, targets)\n",
    "        optimizer.apply_gradients(zip(grads, self.variables),\n",
    "                          global_step=tf.train.get_or_create_global_step())\n",
    "    \n",
    "\n",
    "model = ValueModel()\n",
    "\n",
    "batch = tf.random_uniform([3, 4])\n",
    "print(\"batch:\", batch)\n",
    "\n",
    "result = model(batch)\n",
    "print(\"result:\", result)\n",
    "\n",
    "optimizer = tf.train.AdamOptimizer(learning_rate=0.01)\n",
    "\n",
    "num_epochs = 5\n",
    "\n",
    "for epoch in range(num_epochs):\n",
    "\n",
    "    y = tf.expand_dims(tf.constant([5, 5, 5], dtype=\"int32\"), axis=1)\n",
    "\n",
    "    # Optimize the model\n",
    "    model.train(optimizer, batch, y)\n",
    "    \n",
    "        \n",
    "model(batch)"
   ]
  }
 ],
 "metadata": {
  "kernelspec": {
   "display_name": "Python 3",
   "language": "python",
   "name": "python3"
  },
  "language_info": {
   "codemirror_mode": {
    "name": "ipython",
    "version": 3
   },
   "file_extension": ".py",
   "mimetype": "text/x-python",
   "name": "python",
   "nbconvert_exporter": "python",
   "pygments_lexer": "ipython3",
   "version": "3.5.3"
  }
 },
 "nbformat": 4,
 "nbformat_minor": 2
}
