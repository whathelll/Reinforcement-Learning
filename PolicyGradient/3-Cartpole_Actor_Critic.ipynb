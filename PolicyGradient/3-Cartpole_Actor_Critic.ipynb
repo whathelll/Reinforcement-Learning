{
 "cells": [
  {
   "cell_type": "code",
   "execution_count": 2,
   "metadata": {},
   "outputs": [
    {
     "name": "stderr",
     "output_type": "stream",
     "text": [
      "/home/william/anaconda3/envs/dev/lib/python3.5/site-packages/h5py/__init__.py:36: FutureWarning: Conversion of the second argument of issubdtype from `float` to `np.floating` is deprecated. In future, it will be treated as `np.float64 == np.dtype(float).type`.\n",
      "  from ._conv import register_converters as _register_converters\n"
     ]
    }
   ],
   "source": [
    "import os\n",
    "os.environ[\"CUDA_VISIBLE_DEVICES\"]=\"-1\"\n",
    "\n",
    "import numpy as np\n",
    "import gym as gym\n",
    "from gym import logger as gymlogger\n",
    "gymlogger.set_level(40) #error only\n",
    "from collections import namedtuple, deque\n",
    "import matplotlib\n",
    "import matplotlib.pyplot as plt\n",
    "import time\n",
    "import cv2 as cv2\n",
    "import random\n",
    "import tensorflow.contrib.eager as tfe\n",
    "import tensorflow as tf\n",
    "tf.enable_eager_execution()\n",
    "%matplotlib inline\n",
    "\n",
    "from utils.plotting import RewardHistory\n"
   ]
  },
  {
   "cell_type": "markdown",
   "metadata": {},
   "source": [
    "# Policy Gradient with a model"
   ]
  },
  {
   "cell_type": "code",
   "execution_count": 36,
   "metadata": {
    "scrolled": false
   },
   "outputs": [
    {
     "name": "stdout",
     "output_type": "stream",
     "text": [
      "batch: tf.Tensor(\n",
      "[[0.81653655 0.7700957  0.29644847 0.13605809]\n",
      " [0.04950047 0.11021364 0.82901967 0.16017461]\n",
      " [0.73726773 0.67315614 0.7928866  0.51046145]], shape=(3, 4), dtype=float32)\n",
      "reward: tf.Tensor(\n",
      "[[5.]\n",
      " [5.]\n",
      " [5.]], shape=(3, 1), dtype=float32)\n",
      "result: tf.Tensor(\n",
      "[[0.5511133  0.4488867 ]\n",
      " [0.67887825 0.32112178]\n",
      " [0.66132474 0.33867526]], shape=(3, 2), dtype=float32)\n"
     ]
    },
    {
     "data": {
      "text/plain": [
       "<tf.Tensor: id=253573, shape=(3, 2), dtype=float32, numpy=\n",
       "array([[0.47731766, 0.52268237],\n",
       "       [0.6306618 , 0.36933824],\n",
       "       [0.5752905 , 0.42470953]], dtype=float32)>"
      ]
     },
     "execution_count": 36,
     "metadata": {},
     "output_type": "execute_result"
    }
   ],
   "source": [
    "# import tensorflow.contrib.eager as tfe\n",
    "\n",
    "class LinearModel(tf.keras.Model):\n",
    "    def __init__(self):\n",
    "        super(LinearModel, self).__init__()\n",
    "        self.dense1 = tf.keras.layers.Dense(units=2, activation=tf.nn.softmax)\n",
    "\n",
    "    def call(self, input):\n",
    "        result = self.dense1(input)\n",
    "        return result\n",
    "    \n",
    "    \n",
    "    def loss(self, inputs, targets):\n",
    "        y = self(inputs)\n",
    "        loss = y * tf.cast(targets, dtype=\"float32\")\n",
    "        loss = tf.reduce_sum(loss, reduction_indices=1)\n",
    "#         print(loss.shape)\n",
    "        loss = tf.log(loss)\n",
    "        return loss\n",
    "\n",
    "    def grad(self, inputs, targets, reward):\n",
    "        with tfe.GradientTape() as tape:\n",
    "            loss_value = - tf.reduce_mean(self.loss(inputs, targets) * reward)\n",
    "        return tape.gradient(loss_value, self.variables)\n",
    "    \n",
    "    def train(self, optimizer, inputs, targets, reward):\n",
    "        grads = self.grad(inputs, targets, reward)\n",
    "        optimizer.apply_gradients(zip(grads, self.variables),\n",
    "                          global_step=tf.train.get_or_create_global_step())\n",
    "    \n",
    "model = LinearModel()\n",
    "\n",
    "batch = tf.random_uniform([3, 4])\n",
    "print(\"batch:\", batch)\n",
    "\n",
    "reward = tf.constant([5., 5., 5.])\n",
    "reward = tf.expand_dims(reward, axis=1)\n",
    "print(\"reward:\", reward)\n",
    "\n",
    "result = model(batch)\n",
    "print(\"result:\", result)\n",
    "\n",
    "optimizer = tf.train.AdamOptimizer(learning_rate=0.01)\n",
    "\n",
    "num_epochs = 5\n",
    "\n",
    "for epoch in range(num_epochs):\n",
    "\n",
    "#     y = tf.constant([[0], [1]], dtype=\"int32\")\n",
    "    y = tf.one_hot([0, 1, 1], depth=2, dtype=\"int32\")\n",
    "#     y = tf.constant([1, 0, 1], dtype=\"int32\")\n",
    "\n",
    "    # Optimize the model\n",
    "    grads = model.grad(batch, y, reward)\n",
    "    optimizer.apply_gradients(zip(grads, model.variables),\n",
    "                              global_step=tf.train.get_or_create_global_step())\n",
    "        \n",
    "model(batch)"
   ]
  },
  {
   "cell_type": "code",
   "execution_count": 130,
   "metadata": {},
   "outputs": [
    {
     "name": "stdout",
     "output_type": "stream",
     "text": [
      "batch: tf.Tensor(\n",
      "[[0.7472546  0.3253466  0.9667711  0.3406458 ]\n",
      " [0.67316973 0.8405758  0.04402089 0.7717488 ]\n",
      " [0.7702409  0.20590174 0.4290744  0.4862194 ]], shape=(3, 4), dtype=float32)\n",
      "result: tf.Tensor(\n",
      "[[0.07741328]\n",
      " [0.201864  ]\n",
      " [0.01075613]], shape=(3, 1), dtype=float32)\n"
     ]
    },
    {
     "data": {
      "text/plain": [
       "<tf.Tensor: id=231637890, shape=(3, 1), dtype=float32, numpy=\n",
       "array([[1.8894635],\n",
       "       [1.9028518],\n",
       "       [1.5215579]], dtype=float32)>"
      ]
     },
     "execution_count": 130,
     "metadata": {},
     "output_type": "execute_result"
    }
   ],
   "source": [
    "# import tensorflow.contrib.eager as tfe\n",
    "\n",
    "class ValueModel(tf.keras.Model):\n",
    "    def __init__(self):\n",
    "        super(ValueModel, self).__init__()\n",
    "        self.dense1 = tf.keras.layers.Dense(units=128, activation=tf.nn.relu)\n",
    "        self.dense2 = tf.keras.layers.Dense(units=1)\n",
    "\n",
    "    def call(self, inputs):\n",
    "        result = self.dense1(inputs)\n",
    "        result = self.dense2(result)\n",
    "#         result = self.dense2(inputs)\n",
    "        return result\n",
    "    \n",
    "    \n",
    "    def loss(self, inputs, targets):\n",
    "        y = self(inputs)\n",
    "        loss = tf.losses.mean_squared_error(targets, y)\n",
    "#         loss = tf.squared_difference(targets, y)\n",
    "        return loss\n",
    "\n",
    "    def grad(self, inputs, targets):\n",
    "        with tfe.GradientTape() as tape:\n",
    "            loss_value = self.loss(inputs, targets)\n",
    "        return tape.gradient(loss_value, self.variables)\n",
    "    \n",
    "    def train(self, optimizer, inputs, targets):\n",
    "        grads = self.grad(inputs, targets)\n",
    "        optimizer.apply_gradients(zip(grads, self.variables),\n",
    "                          global_step=tf.train.get_or_create_global_step())\n",
    "    \n",
    "\n",
    "model = ValueModel()\n",
    "\n",
    "batch = tf.random_uniform([3, 4])\n",
    "print(\"batch:\", batch)\n",
    "\n",
    "result = model(batch)\n",
    "print(\"result:\", result)\n",
    "\n",
    "optimizer = tf.train.AdamOptimizer(learning_rate=0.01)\n",
    "\n",
    "num_epochs = 5\n",
    "\n",
    "for epoch in range(num_epochs):\n",
    "\n",
    "    y = tf.expand_dims(tf.constant([5, 5, 5], dtype=tf.float32), axis=1)\n",
    "\n",
    "    # Optimize the model\n",
    "    model.train(optimizer, batch, y)\n",
    "    \n",
    "        \n",
    "model(batch)"
   ]
  },
  {
   "cell_type": "markdown",
   "metadata": {},
   "source": [
    "# Ok, now we do Policy Gradient in actor critic: 1 sample at a time"
   ]
  },
  {
   "cell_type": "code",
   "execution_count": 127,
   "metadata": {
    "scrolled": true
   },
   "outputs": [
    {
     "data": {
      "image/png": "[encoded data removed]",
      "text/plain": [
       "<Figure size 1440x360 with 2 Axes>"
      ]
     },
     "metadata": {},
     "output_type": "display_data"
    }
   ],
   "source": [
    "class Agent():\n",
    "    def __init__(self):\n",
    "        self.env = gym.make('CartPole-v0')\n",
    "        self.episode_durations = []\n",
    "        self.episode_loss = []\n",
    "        self.gamma = 0.99\n",
    "        self.model = LinearModel()\n",
    "        self.value_model = ValueModel()\n",
    "#         self.memory = PolicyGradientMemory()\n",
    "        self.action_optimizer = tf.train.AdamOptimizer(learning_rate=0.02)\n",
    "        self.value_optimizer = tf.train.AdamOptimizer(learning_rate=0.02)\n",
    "        \n",
    "    def getAction(self, s):\n",
    "        s = tf.convert_to_tensor([s])\n",
    "        action_probability = self.model(s).numpy()\n",
    "#         print(action_probability)\n",
    "        action = np.random.choice([0, 1], p=action_probability[0])\n",
    "        return action\n",
    "    \n",
    "    def train(self, episodes=2):\n",
    "        all_returns = [[] for _ in range(200)]\n",
    "        for i in range(episodes):\n",
    "            s = self.env.reset()\n",
    "            steps = 0\n",
    "            while True:\n",
    "                action = self.getAction(s)\n",
    "                \n",
    "                s_1, reward, done, info = self.env.step(action)\n",
    "#                 self.memory.append(Transition(s, action, reward))\n",
    "                \n",
    "                s0 = tf.constant([s])\n",
    "                s1 = tf.constant([s_1])\n",
    "                r = tf.constant([reward])\n",
    "                a = tf.one_hot([action], depth=2, dtype=\"int32\")\n",
    "                d = tf.constant([1 - done], dtype=tf.float32)\n",
    "                \n",
    "                v = self.value_model(s0)\n",
    "                v_prime = self.value_model(s1)\n",
    "                y = r + self.gamma * d * v_prime\n",
    "#                 print(y.numpy(), v.numpy())\n",
    "                td_loss = y - v\n",
    "                \n",
    "                self.value_model.train(self.value_optimizer, s0, y)\n",
    "                self.model.train(self.action_optimizer, s0, a, td_loss)\n",
    "    \n",
    "                s = s_1\n",
    "                \n",
    "                steps += 1\n",
    "                if done:\n",
    "                    break\n",
    "\n",
    "            self.episode_durations.append(steps)\n",
    "    \n",
    "    def run(self):\n",
    "        self.env = gym.make('CartPole-v0')\n",
    "        s = self.env.reset()\n",
    "        steps = 0\n",
    "        while True:\n",
    "            self.env.render()\n",
    "            action = self.getAction(s)\n",
    "            s_1, reward, done, info = self.env.step(action)\n",
    "            s = s_1\n",
    "            steps += 1\n",
    "            if done:\n",
    "                print(\"Episode finished successfully after {} timesteps\".format(steps))\n",
    "                break\n",
    "        self.env.close()\n",
    "\n",
    "agent = Agent()\n",
    "\n",
    "reward_history = RewardHistory()\n",
    "for i in range(50):\n",
    "    agent = Agent()\n",
    "    agent.train(100)\n",
    "    reward_history.append(agent.episode_durations)\n",
    "reward_history.plot()"
   ]
  },
  {
   "cell_type": "code",
   "execution_count": null,
   "metadata": {
    "collapsed": true
   },
   "outputs": [],
   "source": [
    "###### learner.train(100, show_chart)\n",
    "for i in range(2):\n",
    "    agent.run()\n"
   ]
  },
  {
   "cell_type": "markdown",
   "metadata": {
    "collapsed": true
   },
   "source": [
    "# Lessons Learnt\n"
   ]
  },
  {
   "cell_type": "markdown",
   "metadata": {
    "collapsed": true
   },
   "source": [
    "- This is sensitive to the learning rate of both actor and critic"
   ]
  },
  {
   "cell_type": "markdown",
   "metadata": {},
   "source": [
    "# Mean reward over 100 training sessions"
   ]
  },
  {
   "cell_type": "markdown",
   "metadata": {},
   "source": [
    "- Actor Critic, learning from 1 sample at a time. Cannot reproduce this anymore lol\n",
    "![mean reward](./images/actor_critic.png)"
   ]
  },
  {
   "cell_type": "markdown",
   "metadata": {
    "collapsed": true
   },
   "source": [
    "# Batch learning"
   ]
  },
  {
   "cell_type": "code",
   "execution_count": 128,
   "metadata": {},
   "outputs": [
    {
     "name": "stdout",
     "output_type": "stream",
     "text": [
      "s: [[1 2 3]\n",
      " [1 2 3]\n",
      " [1 2 3]\n",
      " [1 2 3]\n",
      " [1 2 3]]\n",
      "a: [1 0 0 1 1]\n",
      "s1: [[4 5 6]\n",
      " [4 5 6]\n",
      " [4 5 6]\n",
      " [4 5 6]\n",
      " [4 5 6]]\n",
      "r: [1. 1. 1. 1. 1.]\n",
      "done: [ True False False False False]\n"
     ]
    }
   ],
   "source": [
    "Transition = namedtuple(\"Transition\", [\"s\", \"a\", \"s1\", \"r\", \"done\"])\n",
    "\n",
    "class PolicyGradientMemory():\n",
    "    def __init__(self, gamma = 0.9):\n",
    "        self.memory = []\n",
    "        self.gamma = gamma\n",
    "    \n",
    "    def reset(self):\n",
    "        self.memory = []\n",
    "    \n",
    "    def append(self, transition):\n",
    "        self.memory.append(transition)\n",
    "        \n",
    "    \n",
    "    def sample(self):\n",
    "        batched = Transition(*zip(*self.memory))\n",
    "        s = np.array(list(batched.s))\n",
    "        a = np.array(list(batched.a))\n",
    "        s1 = np.array(list(batched.s1))\n",
    "        r = np.array(list(batched.r), dtype=\"float32\")\n",
    "        done = np.array(list(batched.done))\n",
    "        \n",
    "#         reward = 0.\n",
    "#         for i in reversed(range(len(r))):\n",
    "#             moving_reward = self.gamma * reward\n",
    "#             reward = r[i] + moving_reward\n",
    "#             r[i] = reward\n",
    "#             print(i, len(r)-i-1, r[i])\n",
    "#         r = np.expand_dims(r, axis=1)\n",
    "        return [s, a, s1, r, done]\n",
    "    \n",
    "    def __len__(self):\n",
    "        return len(self.memory)\n",
    "    \n",
    "    def __str__(self):\n",
    "        result = []\n",
    "        for i in range(self.__len__()):\n",
    "            result.append(self.memory[i].__str__() + \" \\n\")\n",
    "        return \"\".join(result)\n",
    "\n",
    "memory = PolicyGradientMemory()\n",
    "\n",
    "memory.append(Transition([1, 2, 3], 1, [4, 5, 6], 1, True))\n",
    "memory.append(Transition([1, 2, 3], 0, [4, 5, 6], 1, False))\n",
    "memory.append(Transition([1, 2, 3], 0, [4, 5, 6], 1, False))\n",
    "memory.append(Transition([1, 2, 3], 1, [4, 5, 6], 1, False))\n",
    "memory.append(Transition([1, 2, 3], 1, [4, 5, 6], 1, False))\n",
    "\n",
    "\n",
    "# print(memory)\n",
    "a = memory.sample()\n",
    "print(\"s:\", a[0])\n",
    "print(\"a:\", a[1])\n",
    "print(\"s1:\", a[2])\n",
    "print(\"r:\", a[3])\n",
    "print(\"done:\", a[4])\n",
    "\n",
    "\n"
   ]
  },
  {
   "cell_type": "code",
   "execution_count": 138,
   "metadata": {
    "scrolled": false
   },
   "outputs": [
    {
     "data": {
      "image/png": "[encoded data removed]",
      "text/plain": [
       "<Figure size 1440x360 with 2 Axes>"
      ]
     },
     "metadata": {},
     "output_type": "display_data"
    }
   ],
   "source": [
    "class Agent():\n",
    "    def __init__(self):\n",
    "        self.env = gym.make('CartPole-v0')\n",
    "        self.episode_durations = []\n",
    "        self.episode_loss = []\n",
    "        self.gamma = 0.99\n",
    "        self.model = LinearModel()\n",
    "        self.value_model = ValueModel()\n",
    "        self.memory = PolicyGradientMemory()\n",
    "        self.action_optimizer = tf.train.AdamOptimizer(learning_rate=0.1)\n",
    "        self.value_optimizer = tf.train.AdamOptimizer(learning_rate=0.1)\n",
    "        \n",
    "    def getAction(self, s):\n",
    "        s = tf.convert_to_tensor([s])\n",
    "        action_probability = self.model(s).numpy()\n",
    "#         print(action_probability)\n",
    "        action = np.random.choice([0, 1], p=action_probability[0])\n",
    "        return action\n",
    "    \n",
    "    def train(self, episodes=2):\n",
    "        all_returns = [[] for _ in range(200)]\n",
    "        for i in range(episodes):\n",
    "            s = self.env.reset()\n",
    "            steps = 0\n",
    "            while True:\n",
    "                action = self.getAction(s)\n",
    "                \n",
    "                s_1, reward, done, info = self.env.step(action)\n",
    "                self.memory.append(Transition(s, action, s_1, reward, done))\n",
    "                \n",
    "                s = s_1\n",
    "                \n",
    "                steps += 1\n",
    "                if done:\n",
    "                    break\n",
    "\n",
    "            s0, a, s1, r, done = self.memory.sample()\n",
    "            s0 = tf.constant(s0, dtype=tf.float32)\n",
    "            a = tf.one_hot(a, depth=2, dtype=tf.int32)\n",
    "            s1 = tf.constant(s1, dtype=tf.float32)\n",
    "            r = tf.expand_dims(tf.constant(r, dtype=tf.float32), axis=1)\n",
    "            d = tf.expand_dims(tf.constant(1 - done, dtype=tf.float32), axis=1)\n",
    "            \n",
    "            v = self.value_model(s0)\n",
    "            v_prime = self.value_model(s1)\n",
    "            y = r + self.gamma * d * v_prime\n",
    "#             print(y)\n",
    "            td_loss = y - v\n",
    "#                 print(tf.reduce_max(td_loss).numpy())\n",
    "\n",
    "            self.value_model.train(self.value_optimizer, s0, y)\n",
    "            self.model.train(self.action_optimizer, s0, a, td_loss)\n",
    "            self.memory.reset()\n",
    "            \n",
    "            self.episode_durations.append(steps)\n",
    "    \n",
    "    def run(self):\n",
    "        self.env = gym.make('CartPole-v0')\n",
    "        s = self.env.reset()\n",
    "        steps = 0\n",
    "        while True:\n",
    "            self.env.render()\n",
    "            action = self.getAction(s)\n",
    "            s_1, reward, done, info = self.env.step(action)\n",
    "            s = s_1\n",
    "            steps += 1\n",
    "            if done:\n",
    "                print(\"Episode finished successfully after {} timesteps\".format(steps))\n",
    "                break\n",
    "        self.env.close()\n",
    "\n",
    "agent = Agent()\n",
    "\n",
    "reward_history = RewardHistory()\n",
    "for i in range(100):\n",
    "    agent = Agent()\n",
    "    agent.train(100)\n",
    "    reward_history.append(agent.episode_durations)\n",
    "\n",
    "reward_history.plot()"
   ]
  },
  {
   "cell_type": "markdown",
   "metadata": {},
   "source": [
    "# Mean return over 100 runs\n",
    "- Actor Critic batched\n",
    "![mean reward](./images/actor_critic_batch.png)"
   ]
  },
  {
   "cell_type": "code",
   "execution_count": 65,
   "metadata": {},
   "outputs": [
    {
     "name": "stdout",
     "output_type": "stream",
     "text": [
      "Episode finished successfully after 200 timesteps\n"
     ]
    }
   ],
   "source": [
    "agent.run()"
   ]
  },
  {
   "cell_type": "code",
   "execution_count": null,
   "metadata": {
    "collapsed": true
   },
   "outputs": [],
   "source": []
  },
  {
   "cell_type": "code",
   "execution_count": null,
   "metadata": {
    "collapsed": true
   },
   "outputs": [],
   "source": []
  },
  {
   "cell_type": "code",
   "execution_count": null,
   "metadata": {
    "collapsed": true
   },
   "outputs": [],
   "source": []
  },
  {
   "cell_type": "code",
   "execution_count": null,
   "metadata": {
    "collapsed": true
   },
   "outputs": [],
   "source": []
  },
  {
   "cell_type": "markdown",
   "metadata": {},
   "source": [
    "# Combined model"
   ]
  },
  {
   "cell_type": "code",
   "execution_count": null,
   "metadata": {
    "collapsed": true
   },
   "outputs": [],
   "source": [
    "# import tensorflow.contrib.eager as tfe\n",
    "\n",
    "class CombinedModel(tf.keras.Model):\n",
    "    def __init__(self):\n",
    "        super(ValueModel, self).__init__()\n",
    "        self.dense1 = tf.keras.layers.Dense(units=128, activation=tf.nn.relu)\n",
    "        self.dense2 = tf.keras.layers.Dense(units=1)\n",
    "\n",
    "    def call(self, input):\n",
    "        result = self.dense1(input)\n",
    "        result = self.dense2(result)\n",
    "        return result\n",
    "    \n",
    "    \n",
    "    def v_loss(self, inputs, targets):\n",
    "        y = self(inputs)\n",
    "        loss = tf.losses.mean_squared_error(targets, y)\n",
    "        return loss\n",
    "\n",
    "    def v_grad(self, inputs, targets):\n",
    "        with tfe.GradientTape() as tape:\n",
    "            loss_value = tf.reduce_mean(self.loss(inputs, targets))\n",
    "        return tape.gradient(loss_value, self.variables)\n",
    "    \n",
    "    def v_train(self, optimizer, inputs, targets):\n",
    "        grads = self.grad(inputs, targets)\n",
    "        optimizer.apply_gradients(zip(grads, self.variables),\n",
    "                          global_step=tf.train.get_or_create_global_step())\n",
    "    \n",
    "\n",
    "model = ValueModel()\n",
    "\n",
    "batch = tf.random_uniform([3, 4])\n",
    "print(\"batch:\", batch)\n",
    "\n",
    "result = model(batch)\n",
    "print(\"result:\", result)\n",
    "\n",
    "optimizer = tf.train.AdamOptimizer(learning_rate=0.01)\n",
    "\n",
    "num_epochs = 5\n",
    "\n",
    "for epoch in range(num_epochs):\n",
    "\n",
    "    y = tf.expand_dims(tf.constant([5, 5, 5], dtype=\"int32\"), axis=1)\n",
    "\n",
    "    # Optimize the model\n",
    "    model.train(optimizer, batch, y)\n",
    "    \n",
    "        \n",
    "model(batch)"
   ]
  }
 ],
 "metadata": {
  "kernelspec": {
   "display_name": "Python 3",
   "language": "python",
   "name": "python3"
  },
  "language_info": {
   "codemirror_mode": {
    "name": "ipython",
    "version": 3
   },
   "file_extension": ".py",
   "mimetype": "text/x-python",
   "name": "python",
   "nbconvert_exporter": "python",
   "pygments_lexer": "ipython3",
   "version": "3.5.3"
  }
 },
 "nbformat": 4,
 "nbformat_minor": 2
}
